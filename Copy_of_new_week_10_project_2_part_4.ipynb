{
  "nbformat": 4,
  "nbformat_minor": 0,
  "metadata": {
    "colab": {
      "name": "Copy of new week 10 project 2 part 4.ipynb",
      "provenance": [],
      "collapsed_sections": [],
      "mount_file_id": "1P3bf9CIKFMxrHPGrfYUf7wEEK-TJIoxS",
      "authorship_tag": "ABX9TyMqs9BMuFeENGzNfQb4UfCQ",
      "include_colab_link": true
    },
    "kernelspec": {
      "name": "python3",
      "display_name": "Python 3"
    },
    "language_info": {
      "name": "python"
    }
  },
  "cells": [
    {
      "cell_type": "markdown",
      "metadata": {
        "id": "view-in-github",
        "colab_type": "text"
      },
      "source": [
        "<a href=\"https://colab.research.google.com/github/pingli10/project-2-part-4/blob/main/Copy_of_new_week_10_project_2_part_4.ipynb\" target=\"_parent\"><img src=\"https://colab.research.google.com/assets/colab-badge.svg\" alt=\"Open In Colab\"/></a>"
      ]
    },
    {
      "cell_type": "markdown",
      "source": [
        "1) source of data : Heart Failure Prediction Dataset https://www.kaggle.com/datasets/fedesoriano/heart-failure-prediction\n",
        "\n",
        "2) Age': age of the patient\n",
        "\n",
        "'Sex': sex of the patient\n",
        "\n",
        "'ChestPainType' : chest pain type\n",
        "\n",
        ", 'RestingBP': resting blood pressure\n",
        "\n",
        "'Cholesterol':serum cholesterol\n",
        "\n",
        "'FastingBS':A fasting blood sugar (FBS) level is the result of a blood sample taken after a patient fasts for at least eight hours.\n",
        "\n",
        "'RestingECG': Resting ECG systems is designed to help improve clinical accuracy and connect you to advanced data analysis tools so you can make decisions 'MaxHR': the greatest number of beats per minute your heart can possibly reach during all-out strenuous exercise.\n",
        "\n",
        "'ExerciseAngina': build up your activity level gradually and take regular breaks. 'Oldpeak':ST depression induced by exercise relative to rest ( 'ST_Slope': The ST Segment represents the interval between ventricular depolarization and repolarization 'HeartDisease': yes or no heart diease\n",
        "\n",
        "3) The target would be HeartDiease\n",
        "\n",
        "4) This is a classification problem\n",
        "\n",
        "5) No less meaningful feature.\n",
        "\n",
        "6) 918 rows in the data\n",
        "\n",
        "7) I need to encode cat data and numeric data, then to make classification prediction."
      ],
      "metadata": {
        "id": "NOa-19tPZJrq"
      }
    },
    {
      "cell_type": "code",
      "execution_count": null,
      "metadata": {
        "id": "L8eCf1WkQNtO",
        "colab": {
          "base_uri": "https://localhost:8080/"
        },
        "outputId": "587fad9a-f320-492d-e390-b29fd1a97124"
      },
      "outputs": [
        {
          "output_type": "stream",
          "name": "stdout",
          "text": [
            "Drive already mounted at /content/drive; to attempt to forcibly remount, call drive.mount(\"/content/drive\", force_remount=True).\n"
          ]
        }
      ],
      "source": [
        "from google.colab import drive\n",
        "drive.mount('/content/drive')\n",
        "import pandas as pd\n",
        "import numpy as np\n",
        "from sklearn.model_selection import train_test_split,GridSearchCV\n",
        "import seaborn as sns\n",
        "import matplotlib.pyplot as plt\n",
        "from sklearn.preprocessing import StandardScaler,OneHotEncoder\n",
        "from sklearn.compose import make_column_selector,make_column_transformer\n",
        "from sklearn.ensemble import RandomForestClassifier\n",
        "from sklearn.dummy import DummyClassifier\n",
        "from sklearn.pipeline import make_pipeline\n",
        "from sklearn.impute import SimpleImputer\n",
        "from sklearn.metrics import classification_report,confusion_matrix,plot_confusion_matrix\n",
        "from sklearn.linear_model import LogisticRegression\n",
        "from sklearn.tree import DecisionTreeClassifier\n",
        "from sklearn.decomposition import PCA\n",
        "# import knn\n",
        "from sklearn.neighbors import KNeighborsClassifier\n",
        "\n",
        "data = '/content/drive/MyDrive/coding dojo/week 10 project 2 part 3/heart.csv'"
      ]
    },
    {
      "cell_type": "code",
      "source": [
        "df = pd.read_csv(data)"
      ],
      "metadata": {
        "id": "MGjjyIiDQkEK"
      },
      "execution_count": null,
      "outputs": []
    },
    {
      "cell_type": "code",
      "source": [
        "from google.colab import drive\n",
        "drive.mount('/content/drive')"
      ],
      "metadata": {
        "colab": {
          "base_uri": "https://localhost:8080/"
        },
        "id": "PqP8NpCYZ6Xe",
        "outputId": "3e54069c-8bf6-44b4-a6c2-c57837850a61"
      },
      "execution_count": null,
      "outputs": [
        {
          "output_type": "stream",
          "name": "stdout",
          "text": [
            "Drive already mounted at /content/drive; to attempt to forcibly remount, call drive.mount(\"/content/drive\", force_remount=True).\n"
          ]
        }
      ]
    },
    {
      "cell_type": "code",
      "source": [
        "df.head()"
      ],
      "metadata": {
        "colab": {
          "base_uri": "https://localhost:8080/",
          "height": 270
        },
        "id": "JX6tvYkvRBK1",
        "outputId": "162b1b76-f988-4502-8501-032b8757a365"
      },
      "execution_count": null,
      "outputs": [
        {
          "output_type": "execute_result",
          "data": {
            "text/plain": [
              "   Age Sex ChestPainType  RestingBP  Cholesterol  FastingBS RestingECG  MaxHR  \\\n",
              "0   40   M           ATA        140          289          0     Normal    172   \n",
              "1   49   F           NAP        160          180          0     Normal    156   \n",
              "2   37   M           ATA        130          283          0         ST     98   \n",
              "3   48   F           ASY        138          214          0     Normal    108   \n",
              "4   54   M           NAP        150          195          0     Normal    122   \n",
              "\n",
              "  ExerciseAngina  Oldpeak ST_Slope  HeartDisease  \n",
              "0              N      0.0       Up             0  \n",
              "1              N      1.0     Flat             1  \n",
              "2              N      0.0       Up             0  \n",
              "3              Y      1.5     Flat             1  \n",
              "4              N      0.0       Up             0  "
            ],
            "text/html": [
              "\n",
              "  <div id=\"df-b34667fe-c5a2-4728-bde9-bfa42ab920c0\">\n",
              "    <div class=\"colab-df-container\">\n",
              "      <div>\n",
              "<style scoped>\n",
              "    .dataframe tbody tr th:only-of-type {\n",
              "        vertical-align: middle;\n",
              "    }\n",
              "\n",
              "    .dataframe tbody tr th {\n",
              "        vertical-align: top;\n",
              "    }\n",
              "\n",
              "    .dataframe thead th {\n",
              "        text-align: right;\n",
              "    }\n",
              "</style>\n",
              "<table border=\"1\" class=\"dataframe\">\n",
              "  <thead>\n",
              "    <tr style=\"text-align: right;\">\n",
              "      <th></th>\n",
              "      <th>Age</th>\n",
              "      <th>Sex</th>\n",
              "      <th>ChestPainType</th>\n",
              "      <th>RestingBP</th>\n",
              "      <th>Cholesterol</th>\n",
              "      <th>FastingBS</th>\n",
              "      <th>RestingECG</th>\n",
              "      <th>MaxHR</th>\n",
              "      <th>ExerciseAngina</th>\n",
              "      <th>Oldpeak</th>\n",
              "      <th>ST_Slope</th>\n",
              "      <th>HeartDisease</th>\n",
              "    </tr>\n",
              "  </thead>\n",
              "  <tbody>\n",
              "    <tr>\n",
              "      <th>0</th>\n",
              "      <td>40</td>\n",
              "      <td>M</td>\n",
              "      <td>ATA</td>\n",
              "      <td>140</td>\n",
              "      <td>289</td>\n",
              "      <td>0</td>\n",
              "      <td>Normal</td>\n",
              "      <td>172</td>\n",
              "      <td>N</td>\n",
              "      <td>0.0</td>\n",
              "      <td>Up</td>\n",
              "      <td>0</td>\n",
              "    </tr>\n",
              "    <tr>\n",
              "      <th>1</th>\n",
              "      <td>49</td>\n",
              "      <td>F</td>\n",
              "      <td>NAP</td>\n",
              "      <td>160</td>\n",
              "      <td>180</td>\n",
              "      <td>0</td>\n",
              "      <td>Normal</td>\n",
              "      <td>156</td>\n",
              "      <td>N</td>\n",
              "      <td>1.0</td>\n",
              "      <td>Flat</td>\n",
              "      <td>1</td>\n",
              "    </tr>\n",
              "    <tr>\n",
              "      <th>2</th>\n",
              "      <td>37</td>\n",
              "      <td>M</td>\n",
              "      <td>ATA</td>\n",
              "      <td>130</td>\n",
              "      <td>283</td>\n",
              "      <td>0</td>\n",
              "      <td>ST</td>\n",
              "      <td>98</td>\n",
              "      <td>N</td>\n",
              "      <td>0.0</td>\n",
              "      <td>Up</td>\n",
              "      <td>0</td>\n",
              "    </tr>\n",
              "    <tr>\n",
              "      <th>3</th>\n",
              "      <td>48</td>\n",
              "      <td>F</td>\n",
              "      <td>ASY</td>\n",
              "      <td>138</td>\n",
              "      <td>214</td>\n",
              "      <td>0</td>\n",
              "      <td>Normal</td>\n",
              "      <td>108</td>\n",
              "      <td>Y</td>\n",
              "      <td>1.5</td>\n",
              "      <td>Flat</td>\n",
              "      <td>1</td>\n",
              "    </tr>\n",
              "    <tr>\n",
              "      <th>4</th>\n",
              "      <td>54</td>\n",
              "      <td>M</td>\n",
              "      <td>NAP</td>\n",
              "      <td>150</td>\n",
              "      <td>195</td>\n",
              "      <td>0</td>\n",
              "      <td>Normal</td>\n",
              "      <td>122</td>\n",
              "      <td>N</td>\n",
              "      <td>0.0</td>\n",
              "      <td>Up</td>\n",
              "      <td>0</td>\n",
              "    </tr>\n",
              "  </tbody>\n",
              "</table>\n",
              "</div>\n",
              "      <button class=\"colab-df-convert\" onclick=\"convertToInteractive('df-b34667fe-c5a2-4728-bde9-bfa42ab920c0')\"\n",
              "              title=\"Convert this dataframe to an interactive table.\"\n",
              "              style=\"display:none;\">\n",
              "        \n",
              "  <svg xmlns=\"http://www.w3.org/2000/svg\" height=\"24px\"viewBox=\"0 0 24 24\"\n",
              "       width=\"24px\">\n",
              "    <path d=\"M0 0h24v24H0V0z\" fill=\"none\"/>\n",
              "    <path d=\"M18.56 5.44l.94 2.06.94-2.06 2.06-.94-2.06-.94-.94-2.06-.94 2.06-2.06.94zm-11 1L8.5 8.5l.94-2.06 2.06-.94-2.06-.94L8.5 2.5l-.94 2.06-2.06.94zm10 10l.94 2.06.94-2.06 2.06-.94-2.06-.94-.94-2.06-.94 2.06-2.06.94z\"/><path d=\"M17.41 7.96l-1.37-1.37c-.4-.4-.92-.59-1.43-.59-.52 0-1.04.2-1.43.59L10.3 9.45l-7.72 7.72c-.78.78-.78 2.05 0 2.83L4 21.41c.39.39.9.59 1.41.59.51 0 1.02-.2 1.41-.59l7.78-7.78 2.81-2.81c.8-.78.8-2.07 0-2.86zM5.41 20L4 18.59l7.72-7.72 1.47 1.35L5.41 20z\"/>\n",
              "  </svg>\n",
              "      </button>\n",
              "      \n",
              "  <style>\n",
              "    .colab-df-container {\n",
              "      display:flex;\n",
              "      flex-wrap:wrap;\n",
              "      gap: 12px;\n",
              "    }\n",
              "\n",
              "    .colab-df-convert {\n",
              "      background-color: #E8F0FE;\n",
              "      border: none;\n",
              "      border-radius: 50%;\n",
              "      cursor: pointer;\n",
              "      display: none;\n",
              "      fill: #1967D2;\n",
              "      height: 32px;\n",
              "      padding: 0 0 0 0;\n",
              "      width: 32px;\n",
              "    }\n",
              "\n",
              "    .colab-df-convert:hover {\n",
              "      background-color: #E2EBFA;\n",
              "      box-shadow: 0px 1px 2px rgba(60, 64, 67, 0.3), 0px 1px 3px 1px rgba(60, 64, 67, 0.15);\n",
              "      fill: #174EA6;\n",
              "    }\n",
              "\n",
              "    [theme=dark] .colab-df-convert {\n",
              "      background-color: #3B4455;\n",
              "      fill: #D2E3FC;\n",
              "    }\n",
              "\n",
              "    [theme=dark] .colab-df-convert:hover {\n",
              "      background-color: #434B5C;\n",
              "      box-shadow: 0px 1px 3px 1px rgba(0, 0, 0, 0.15);\n",
              "      filter: drop-shadow(0px 1px 2px rgba(0, 0, 0, 0.3));\n",
              "      fill: #FFFFFF;\n",
              "    }\n",
              "  </style>\n",
              "\n",
              "      <script>\n",
              "        const buttonEl =\n",
              "          document.querySelector('#df-b34667fe-c5a2-4728-bde9-bfa42ab920c0 button.colab-df-convert');\n",
              "        buttonEl.style.display =\n",
              "          google.colab.kernel.accessAllowed ? 'block' : 'none';\n",
              "\n",
              "        async function convertToInteractive(key) {\n",
              "          const element = document.querySelector('#df-b34667fe-c5a2-4728-bde9-bfa42ab920c0');\n",
              "          const dataTable =\n",
              "            await google.colab.kernel.invokeFunction('convertToInteractive',\n",
              "                                                     [key], {});\n",
              "          if (!dataTable) return;\n",
              "\n",
              "          const docLinkHtml = 'Like what you see? Visit the ' +\n",
              "            '<a target=\"_blank\" href=https://colab.research.google.com/notebooks/data_table.ipynb>data table notebook</a>'\n",
              "            + ' to learn more about interactive tables.';\n",
              "          element.innerHTML = '';\n",
              "          dataTable['output_type'] = 'display_data';\n",
              "          await google.colab.output.renderOutput(dataTable, element);\n",
              "          const docLink = document.createElement('div');\n",
              "          docLink.innerHTML = docLinkHtml;\n",
              "          element.appendChild(docLink);\n",
              "        }\n",
              "      </script>\n",
              "    </div>\n",
              "  </div>\n",
              "  "
            ]
          },
          "metadata": {},
          "execution_count": 79
        }
      ]
    },
    {
      "cell_type": "code",
      "source": [
        "# check missing value\n",
        "df.isna().sum()"
      ],
      "metadata": {
        "colab": {
          "base_uri": "https://localhost:8080/"
        },
        "id": "JFvMoQe_RFCc",
        "outputId": "8d2e0e44-d06a-4936-bb3e-f8a1f641e78c"
      },
      "execution_count": null,
      "outputs": [
        {
          "output_type": "execute_result",
          "data": {
            "text/plain": [
              "Age               0\n",
              "Sex               0\n",
              "ChestPainType     0\n",
              "RestingBP         0\n",
              "Cholesterol       0\n",
              "FastingBS         0\n",
              "RestingECG        0\n",
              "MaxHR             0\n",
              "ExerciseAngina    0\n",
              "Oldpeak           0\n",
              "ST_Slope          0\n",
              "HeartDisease      0\n",
              "dtype: int64"
            ]
          },
          "metadata": {},
          "execution_count": 80
        }
      ]
    },
    {
      "cell_type": "code",
      "source": [
        "# check duplicate value\n",
        "df.duplicated().sum()"
      ],
      "metadata": {
        "colab": {
          "base_uri": "https://localhost:8080/"
        },
        "id": "Us8Gw0b1RE_2",
        "outputId": "d4888e5e-253e-4d00-b56b-1bfb1dc11ed6"
      },
      "execution_count": null,
      "outputs": [
        {
          "output_type": "execute_result",
          "data": {
            "text/plain": [
              "0"
            ]
          },
          "metadata": {},
          "execution_count": 81
        }
      ]
    },
    {
      "cell_type": "markdown",
      "source": [
        "# Univariate analysis"
      ],
      "metadata": {
        "id": "VqwTctYEhqwY"
      }
    },
    {
      "cell_type": "code",
      "source": [
        "# age distribution\n",
        "plt.figure(figsize=(15,5))\n",
        "ax = sns.countplot(data = df,x='Sex');\n",
        "for p in ax.patches:\n",
        "  height = p.get_height()\n",
        "  ax.text(p.get_x() + p.get_width()/2, p.get_height(), str(p.get_height()) +'\\n'+ str(round(p.get_height()/len(df), 2)) +' %\\n')"
      ],
      "metadata": {
        "colab": {
          "base_uri": "https://localhost:8080/",
          "height": 352
        },
        "id": "xxqQdyF-JDwb",
        "outputId": "c299fddc-9e0c-46d3-ac49-61524c22c2b2"
      },
      "execution_count": null,
      "outputs": [
        {
          "output_type": "display_data",
          "data": {
            "text/plain": [
              "<Figure size 1080x360 with 1 Axes>"
            ],
            "image/png": "[encoded data removed]"
          },
          "metadata": {
            "needs_background": "light"
          }
        }
      ]
    },
    {
      "cell_type": "code",
      "source": [
        "#chest pain distribution\n",
        "plt.figure(figsize=(15,5))\n",
        "ax = sns.countplot(data = df,x='ChestPainType')\n",
        "for p in ax.patches:\n",
        "  height = p.get_height()\n",
        "  ax.text(p.get_x() + p.get_width()/2, p.get_height(), str(p.get_height()) +'\\n'+ str(round(p.get_height()/len(df), 2)) +' %\\n')"
      ],
      "metadata": {
        "colab": {
          "base_uri": "https://localhost:8080/",
          "height": 352
        },
        "id": "OENI-JQjJLkr",
        "outputId": "7b75dca0-7efa-46fd-e932-73c4c0eefdbb"
      },
      "execution_count": null,
      "outputs": [
        {
          "output_type": "display_data",
          "data": {
            "text/plain": [
              "<Figure size 1080x360 with 1 Axes>"
            ],
            "image/png": "[encoded data removed]"
          },
          "metadata": {
            "needs_background": "light"
          }
        }
      ]
    },
    {
      "cell_type": "code",
      "source": [
        "#Fasting Bs distribution\n",
        "plt.figure(figsize=(15,5))\n",
        "ax = sns.countplot(data = df,x='FastingBS')\n",
        "for p in ax.patches:\n",
        "  height = p.get_height()\n",
        "  ax.text(p.get_x() + p.get_width()/2, p.get_height(), str(p.get_height()) +'\\n'+ str(round(p.get_height()/len(df), 2)) +' %\\n')"
      ],
      "metadata": {
        "colab": {
          "base_uri": "https://localhost:8080/",
          "height": 352
        },
        "id": "UKVbV1kqJXth",
        "outputId": "76a0fb51-2384-40e6-875a-a5aed61ee29a"
      },
      "execution_count": null,
      "outputs": [
        {
          "output_type": "display_data",
          "data": {
            "text/plain": [
              "<Figure size 1080x360 with 1 Axes>"
            ],
            "image/png": "[encoded data removed]"
          },
          "metadata": {
            "needs_background": "light"
          }
        }
      ]
    },
    {
      "cell_type": "code",
      "source": [
        "#Resting ECG distribution\n",
        "plt.figure(figsize=(15,5))\n",
        "ax = sns.countplot(data = df,x='RestingECG')\n",
        "for p in ax.patches:\n",
        "  height = p.get_height()\n",
        "  ax.text(p.get_x() + p.get_width()/2, p.get_height(), str(p.get_height()) +'\\n'+ str(round(p.get_height()/len(df), 2)) +' %\\n')"
      ],
      "metadata": {
        "colab": {
          "base_uri": "https://localhost:8080/",
          "height": 352
        },
        "id": "lLTn8GNpJ5L3",
        "outputId": "8aaf9bd6-94d8-4541-a056-c57ff5288e7a"
      },
      "execution_count": null,
      "outputs": [
        {
          "output_type": "display_data",
          "data": {
            "text/plain": [
              "<Figure size 1080x360 with 1 Axes>"
            ],
            "image/png": "[encoded data removed]"
          },
          "metadata": {
            "needs_background": "light"
          }
        }
      ]
    },
    {
      "cell_type": "code",
      "source": [
        "#Exercise Angina Distribution\n",
        "plt.figure(figsize=(15,5))\n",
        "ax = sns.countplot(data = df,x='ExerciseAngina')\n",
        "for p in ax.patches:\n",
        "  height = p.get_height()\n",
        "  ax.text(p.get_x() + p.get_width()/2, p.get_height(), str(p.get_height()) +'\\n'+ str(round(p.get_height()/len(df), 2)) +' %\\n')"
      ],
      "metadata": {
        "colab": {
          "base_uri": "https://localhost:8080/",
          "height": 352
        },
        "id": "0Nvq6wGzKJ_-",
        "outputId": "de036756-9af0-486e-b6ff-469e4b8061cc"
      },
      "execution_count": null,
      "outputs": [
        {
          "output_type": "display_data",
          "data": {
            "text/plain": [
              "<Figure size 1080x360 with 1 Axes>"
            ],
            "image/png": "[encoded data removed]"
          },
          "metadata": {
            "needs_background": "light"
          }
        }
      ]
    },
    {
      "cell_type": "code",
      "source": [
        "# ST_slope distribution\n",
        "plt.figure(figsize=(15,5))\n",
        "ax = sns.countplot(data = df,x='ST_Slope')\n",
        "for p in ax.patches:\n",
        "  height = p.get_height()\n",
        "  ax.text(p.get_x() + p.get_width()/2, p.get_height(), str(p.get_height()) +'\\n'+ str(round(p.get_height()/len(df), 2)) +' %\\n')"
      ],
      "metadata": {
        "colab": {
          "base_uri": "https://localhost:8080/",
          "height": 353
        },
        "id": "nET3OFLZKUG9",
        "outputId": "996721b7-d86a-4688-9647-8dabc0b9a09a"
      },
      "execution_count": null,
      "outputs": [
        {
          "output_type": "display_data",
          "data": {
            "text/plain": [
              "<Figure size 1080x360 with 1 Axes>"
            ],
            "image/png": "[encoded data removed]"
          },
          "metadata": {
            "needs_background": "light"
          }
        }
      ]
    },
    {
      "cell_type": "markdown",
      "source": [
        "# To indicate value greater than 50 % and less than 10%\n",
        "# Male and Female are almost 80:20.\n",
        "# ASY(Chest pain type) = 54%\n",
        "# 0(FastingBS) = 77%\n",
        "# flat(st_slope) = 50%\n",
        "# N(ExerciseAngina) = 60%\n",
        "# TA(Chest pain type) = 5%\n",
        "# Down(ST_Slope) = 7%"
      ],
      "metadata": {
        "id": "vZScJC84kGIF"
      }
    },
    {
      "cell_type": "code",
      "source": [
        "df.columns"
      ],
      "metadata": {
        "colab": {
          "base_uri": "https://localhost:8080/"
        },
        "id": "h8p3ZuB8c0TT",
        "outputId": "5e931a1e-e8c4-472d-cdb4-7a55f1f2a7f2"
      },
      "execution_count": null,
      "outputs": [
        {
          "output_type": "execute_result",
          "data": {
            "text/plain": [
              "Index(['Age', 'Sex', 'ChestPainType', 'RestingBP', 'Cholesterol', 'FastingBS',\n",
              "       'RestingECG', 'MaxHR', 'ExerciseAngina', 'Oldpeak', 'ST_Slope',\n",
              "       'HeartDisease'],\n",
              "      dtype='object')"
            ]
          },
          "metadata": {},
          "execution_count": 88
        }
      ]
    },
    {
      "cell_type": "code",
      "source": [
        "df.info()"
      ],
      "metadata": {
        "colab": {
          "base_uri": "https://localhost:8080/"
        },
        "id": "6vlupOpwdjYW",
        "outputId": "c87899b9-4f9e-4bcf-fdd4-4f4c7af3919f"
      },
      "execution_count": null,
      "outputs": [
        {
          "output_type": "stream",
          "name": "stdout",
          "text": [
            "<class 'pandas.core.frame.DataFrame'>\n",
            "RangeIndex: 918 entries, 0 to 917\n",
            "Data columns (total 12 columns):\n",
            " #   Column          Non-Null Count  Dtype  \n",
            "---  ------          --------------  -----  \n",
            " 0   Age             918 non-null    int64  \n",
            " 1   Sex             918 non-null    object \n",
            " 2   ChestPainType   918 non-null    object \n",
            " 3   RestingBP       918 non-null    int64  \n",
            " 4   Cholesterol     918 non-null    int64  \n",
            " 5   FastingBS       918 non-null    int64  \n",
            " 6   RestingECG      918 non-null    object \n",
            " 7   MaxHR           918 non-null    int64  \n",
            " 8   ExerciseAngina  918 non-null    object \n",
            " 9   Oldpeak         918 non-null    float64\n",
            " 10  ST_Slope        918 non-null    object \n",
            " 11  HeartDisease    918 non-null    int64  \n",
            "dtypes: float64(1), int64(6), object(5)\n",
            "memory usage: 86.2+ KB\n"
          ]
        }
      ]
    },
    {
      "cell_type": "code",
      "source": [
        "import warnings\n",
        "warnings.simplefilter(action='ignore',category=FutureWarning)\n",
        "fig,axes = plt.subplots(2,4,figsize=(16,10))\n",
        "sns.countplot('Sex',data=df,ax=axes[0,0])\n",
        "sns.countplot('ChestPainType',data=df,ax=axes[0,1])\n",
        "sns.countplot('RestingECG',data=df,ax=axes[0,2])\n",
        "sns.countplot('ExerciseAngina',data=df,ax=axes[0,3])\n",
        "sns.countplot('ST_Slope',data=df,ax=axes[1,0])\n",
        "sns.countplot('FastingBS',data=df,ax=axes[1,1])\n",
        "sns.countplot('HeartDisease',data=df,ax=axes[1,2])\n",
        "sns.displot(df['Age'],kde=True)\n",
        "sns.displot(df['RestingBP'],kde=True)\n",
        "sns.displot(df['Cholesterol'],kde=True)\n",
        "sns.displot(df['MaxHR'],kde=True)\n"
      ],
      "metadata": {
        "colab": {
          "base_uri": "https://localhost:8080/",
          "height": 1000
        },
        "id": "2BmzpRRib2f5",
        "outputId": "9fab9a17-b372-41cf-9753-cfc1d1972815"
      },
      "execution_count": null,
      "outputs": [
        {
          "output_type": "execute_result",
          "data": {
            "text/plain": [
              "<seaborn.axisgrid.FacetGrid at 0x7ff984fcbf90>"
            ]
          },
          "metadata": {},
          "execution_count": 90
        },
        {
          "output_type": "display_data",
          "data": {
            "text/plain": [
              "<Figure size 1152x720 with 8 Axes>"
            ],
            "image/png": "[encoded data removed]"
          },
          "metadata": {
            "needs_background": "light"
          }
        },
        {
          "output_type": "display_data",
          "data": {
            "text/plain": [
              "<Figure size 360x360 with 1 Axes>"
            ],
            "image/png": "[encoded data removed]"
          },
          "metadata": {
            "needs_background": "light"
          }
        },
        {
          "output_type": "display_data",
          "data": {
            "text/plain": [
              "<Figure size 360x360 with 1 Axes>"
            ],
            "image/png": "[encoded data removed]"
          },
          "metadata": {
            "needs_background": "light"
          }
        },
        {
          "output_type": "display_data",
          "data": {
            "text/plain": [
              "<Figure size 360x360 with 1 Axes>"
            ],
            "image/png": "[encoded data removed]"
          },
          "metadata": {
            "needs_background": "light"
          }
        },
        {
          "output_type": "display_data",
          "data": {
            "text/plain": [
              "<Figure size 360x360 with 1 Axes>"
            ],
            "image/png": "[encoded data removed]"
          },
          "metadata": {
            "needs_background": "light"
          }
        }
      ]
    },
    {
      "cell_type": "code",
      "source": [
        "# see value\n",
        "for col in df.columns:\n",
        "  print(f'column={col}')\n",
        "  print(df[col].value_counts(dropna=True))\n",
        "  print('\\n\\n')"
      ],
      "metadata": {
        "colab": {
          "base_uri": "https://localhost:8080/"
        },
        "id": "lApTduOmNdVJ",
        "outputId": "3bca8375-4403-44d9-95b4-41f7055d9a59"
      },
      "execution_count": null,
      "outputs": [
        {
          "output_type": "stream",
          "name": "stdout",
          "text": [
            "column=Age\n",
            "54    51\n",
            "58    42\n",
            "55    41\n",
            "56    38\n",
            "57    38\n",
            "52    36\n",
            "51    35\n",
            "59    35\n",
            "62    35\n",
            "53    33\n",
            "60    32\n",
            "48    31\n",
            "61    31\n",
            "63    30\n",
            "50    25\n",
            "46    24\n",
            "41    24\n",
            "43    24\n",
            "64    22\n",
            "65    21\n",
            "49    21\n",
            "47    19\n",
            "44    19\n",
            "42    18\n",
            "45    18\n",
            "38    16\n",
            "67    15\n",
            "39    15\n",
            "66    13\n",
            "69    13\n",
            "40    13\n",
            "35    11\n",
            "37    11\n",
            "68    10\n",
            "34     7\n",
            "74     7\n",
            "70     7\n",
            "36     6\n",
            "71     5\n",
            "32     5\n",
            "72     4\n",
            "29     3\n",
            "75     3\n",
            "33     2\n",
            "77     2\n",
            "76     2\n",
            "31     2\n",
            "30     1\n",
            "28     1\n",
            "73     1\n",
            "Name: Age, dtype: int64\n",
            "\n",
            "\n",
            "\n",
            "column=Sex\n",
            "M    725\n",
            "F    193\n",
            "Name: Sex, dtype: int64\n",
            "\n",
            "\n",
            "\n",
            "column=ChestPainType\n",
            "ASY    496\n",
            "NAP    203\n",
            "ATA    173\n",
            "TA      46\n",
            "Name: ChestPainType, dtype: int64\n",
            "\n",
            "\n",
            "\n",
            "column=RestingBP\n",
            "120    132\n",
            "130    118\n",
            "140    107\n",
            "110     58\n",
            "150     55\n",
            "      ... \n",
            "185      1\n",
            "98       1\n",
            "92       1\n",
            "113      1\n",
            "164      1\n",
            "Name: RestingBP, Length: 67, dtype: int64\n",
            "\n",
            "\n",
            "\n",
            "column=Cholesterol\n",
            "0      172\n",
            "254     11\n",
            "223     10\n",
            "220     10\n",
            "230      9\n",
            "      ... \n",
            "392      1\n",
            "316      1\n",
            "153      1\n",
            "466      1\n",
            "131      1\n",
            "Name: Cholesterol, Length: 222, dtype: int64\n",
            "\n",
            "\n",
            "\n",
            "column=FastingBS\n",
            "0    704\n",
            "1    214\n",
            "Name: FastingBS, dtype: int64\n",
            "\n",
            "\n",
            "\n",
            "column=RestingECG\n",
            "Normal    552\n",
            "LVH       188\n",
            "ST        178\n",
            "Name: RestingECG, dtype: int64\n",
            "\n",
            "\n",
            "\n",
            "column=MaxHR\n",
            "150    43\n",
            "140    41\n",
            "120    36\n",
            "130    33\n",
            "160    25\n",
            "       ..\n",
            "63      1\n",
            "83      1\n",
            "60      1\n",
            "78      1\n",
            "202     1\n",
            "Name: MaxHR, Length: 119, dtype: int64\n",
            "\n",
            "\n",
            "\n",
            "column=ExerciseAngina\n",
            "N    547\n",
            "Y    371\n",
            "Name: ExerciseAngina, dtype: int64\n",
            "\n",
            "\n",
            "\n",
            "column=Oldpeak\n",
            " 0.0    368\n",
            " 1.0     86\n",
            " 2.0     76\n",
            " 1.5     53\n",
            " 3.0     28\n",
            " 1.2     26\n",
            " 0.2     22\n",
            " 0.5     19\n",
            " 1.4     18\n",
            " 1.8     17\n",
            " 2.5     16\n",
            " 0.8     16\n",
            " 1.6     16\n",
            " 0.1     14\n",
            " 0.6     14\n",
            " 0.4     11\n",
            " 0.3     11\n",
            " 4.0      8\n",
            " 0.7      7\n",
            " 2.8      7\n",
            " 1.9      7\n",
            " 1.3      7\n",
            " 2.6      7\n",
            " 1.1      7\n",
            " 1.7      6\n",
            " 2.2      5\n",
            " 0.9      4\n",
            " 2.4      4\n",
            " 3.6      4\n",
            " 3.4      3\n",
            " 4.2      2\n",
            " 3.5      2\n",
            "-0.5      2\n",
            " 2.3      2\n",
            " 3.2      2\n",
            " 2.1      2\n",
            "-1.0      2\n",
            "-0.1      2\n",
            " 5.6      1\n",
            " 2.9      1\n",
            " 6.2      1\n",
            " 3.8      1\n",
            "-1.5      1\n",
            " 3.1      1\n",
            "-2.0      1\n",
            " 3.7      1\n",
            "-0.8      1\n",
            "-0.7      1\n",
            "-1.1      1\n",
            "-2.6      1\n",
            "-0.9      1\n",
            " 5.0      1\n",
            " 4.4      1\n",
            "Name: Oldpeak, dtype: int64\n",
            "\n",
            "\n",
            "\n",
            "column=ST_Slope\n",
            "Flat    460\n",
            "Up      395\n",
            "Down     63\n",
            "Name: ST_Slope, dtype: int64\n",
            "\n",
            "\n",
            "\n",
            "column=HeartDisease\n",
            "1    508\n",
            "0    410\n",
            "Name: HeartDisease, dtype: int64\n",
            "\n",
            "\n",
            "\n"
          ]
        }
      ]
    },
    {
      "cell_type": "code",
      "source": [
        "# look old peak negtive value\n",
        "old_peak = df[df['Oldpeak']<0] \n",
        "old_peak"
      ],
      "metadata": {
        "colab": {
          "base_uri": "https://localhost:8080/",
          "height": 521
        },
        "id": "auDrWVQUUI19",
        "outputId": "af9629ba-fa61-4fdd-c2f5-9e3deeb68c20"
      },
      "execution_count": null,
      "outputs": [
        {
          "output_type": "execute_result",
          "data": {
            "text/plain": [
              "     Age Sex ChestPainType  RestingBP  Cholesterol  FastingBS RestingECG  \\\n",
              "321   63   M           ASY        100            0          1     Normal   \n",
              "324   46   M           ASY        100            0          1         ST   \n",
              "325   42   M           ASY        105            0          1     Normal   \n",
              "326   45   M           NAP        110            0          0     Normal   \n",
              "331   56   M           ASY        115            0          1         ST   \n",
              "332   38   M           NAP        100            0          0     Normal   \n",
              "334   51   M           ASY        130            0          1     Normal   \n",
              "335   62   M            TA        120            0          1        LVH   \n",
              "352   56   M           ASY        120            0          0         ST   \n",
              "407   62   M           ASY        115            0          1     Normal   \n",
              "413   56   M           NAP        125            0          1     Normal   \n",
              "421   66   M           NAP        120            0          0         ST   \n",
              "512   35   M           NAP        123          161          0         ST   \n",
              "\n",
              "     MaxHR ExerciseAngina  Oldpeak ST_Slope  HeartDisease  \n",
              "321    109              N     -0.9     Flat             1  \n",
              "324    133              N     -2.6     Flat             1  \n",
              "325    128              Y     -1.5     Down             1  \n",
              "326    138              N     -0.1       Up             0  \n",
              "331     82              N     -1.0       Up             1  \n",
              "332    179              N     -1.1       Up             0  \n",
              "334    170              N     -0.7       Up             1  \n",
              "335    134              N     -0.8     Flat             1  \n",
              "352    100              Y     -1.0     Down             1  \n",
              "407     72              Y     -0.5     Flat             1  \n",
              "413     98              N     -2.0     Flat             1  \n",
              "421    120              N     -0.5       Up             0  \n",
              "512    153              N     -0.1       Up             0  "
            ],
            "text/html": [
              "\n",
              "  <div id=\"df-987fa24a-4492-44a7-aed7-f399356fb46c\">\n",
              "    <div class=\"colab-df-container\">\n",
              "      <div>\n",
              "<style scoped>\n",
              "    .dataframe tbody tr th:only-of-type {\n",
              "        vertical-align: middle;\n",
              "    }\n",
              "\n",
              "    .dataframe tbody tr th {\n",
              "        vertical-align: top;\n",
              "    }\n",
              "\n",
              "    .dataframe thead th {\n",
              "        text-align: right;\n",
              "    }\n",
              "</style>\n",
              "<table border=\"1\" class=\"dataframe\">\n",
              "  <thead>\n",
              "    <tr style=\"text-align: right;\">\n",
              "      <th></th>\n",
              "      <th>Age</th>\n",
              "      <th>Sex</th>\n",
              "      <th>ChestPainType</th>\n",
              "      <th>RestingBP</th>\n",
              "      <th>Cholesterol</th>\n",
              "      <th>FastingBS</th>\n",
              "      <th>RestingECG</th>\n",
              "      <th>MaxHR</th>\n",
              "      <th>ExerciseAngina</th>\n",
              "      <th>Oldpeak</th>\n",
              "      <th>ST_Slope</th>\n",
              "      <th>HeartDisease</th>\n",
              "    </tr>\n",
              "  </thead>\n",
              "  <tbody>\n",
              "    <tr>\n",
              "      <th>321</th>\n",
              "      <td>63</td>\n",
              "      <td>M</td>\n",
              "      <td>ASY</td>\n",
              "      <td>100</td>\n",
              "      <td>0</td>\n",
              "      <td>1</td>\n",
              "      <td>Normal</td>\n",
              "      <td>109</td>\n",
              "      <td>N</td>\n",
              "      <td>-0.9</td>\n",
              "      <td>Flat</td>\n",
              "      <td>1</td>\n",
              "    </tr>\n",
              "    <tr>\n",
              "      <th>324</th>\n",
              "      <td>46</td>\n",
              "      <td>M</td>\n",
              "      <td>ASY</td>\n",
              "      <td>100</td>\n",
              "      <td>0</td>\n",
              "      <td>1</td>\n",
              "      <td>ST</td>\n",
              "      <td>133</td>\n",
              "      <td>N</td>\n",
              "      <td>-2.6</td>\n",
              "      <td>Flat</td>\n",
              "      <td>1</td>\n",
              "    </tr>\n",
              "    <tr>\n",
              "      <th>325</th>\n",
              "      <td>42</td>\n",
              "      <td>M</td>\n",
              "      <td>ASY</td>\n",
              "      <td>105</td>\n",
              "      <td>0</td>\n",
              "      <td>1</td>\n",
              "      <td>Normal</td>\n",
              "      <td>128</td>\n",
              "      <td>Y</td>\n",
              "      <td>-1.5</td>\n",
              "      <td>Down</td>\n",
              "      <td>1</td>\n",
              "    </tr>\n",
              "    <tr>\n",
              "      <th>326</th>\n",
              "      <td>45</td>\n",
              "      <td>M</td>\n",
              "      <td>NAP</td>\n",
              "      <td>110</td>\n",
              "      <td>0</td>\n",
              "      <td>0</td>\n",
              "      <td>Normal</td>\n",
              "      <td>138</td>\n",
              "      <td>N</td>\n",
              "      <td>-0.1</td>\n",
              "      <td>Up</td>\n",
              "      <td>0</td>\n",
              "    </tr>\n",
              "    <tr>\n",
              "      <th>331</th>\n",
              "      <td>56</td>\n",
              "      <td>M</td>\n",
              "      <td>ASY</td>\n",
              "      <td>115</td>\n",
              "      <td>0</td>\n",
              "      <td>1</td>\n",
              "      <td>ST</td>\n",
              "      <td>82</td>\n",
              "      <td>N</td>\n",
              "      <td>-1.0</td>\n",
              "      <td>Up</td>\n",
              "      <td>1</td>\n",
              "    </tr>\n",
              "    <tr>\n",
              "      <th>332</th>\n",
              "      <td>38</td>\n",
              "      <td>M</td>\n",
              "      <td>NAP</td>\n",
              "      <td>100</td>\n",
              "      <td>0</td>\n",
              "      <td>0</td>\n",
              "      <td>Normal</td>\n",
              "      <td>179</td>\n",
              "      <td>N</td>\n",
              "      <td>-1.1</td>\n",
              "      <td>Up</td>\n",
              "      <td>0</td>\n",
              "    </tr>\n",
              "    <tr>\n",
              "      <th>334</th>\n",
              "      <td>51</td>\n",
              "      <td>M</td>\n",
              "      <td>ASY</td>\n",
              "      <td>130</td>\n",
              "      <td>0</td>\n",
              "      <td>1</td>\n",
              "      <td>Normal</td>\n",
              "      <td>170</td>\n",
              "      <td>N</td>\n",
              "      <td>-0.7</td>\n",
              "      <td>Up</td>\n",
              "      <td>1</td>\n",
              "    </tr>\n",
              "    <tr>\n",
              "      <th>335</th>\n",
              "      <td>62</td>\n",
              "      <td>M</td>\n",
              "      <td>TA</td>\n",
              "      <td>120</td>\n",
              "      <td>0</td>\n",
              "      <td>1</td>\n",
              "      <td>LVH</td>\n",
              "      <td>134</td>\n",
              "      <td>N</td>\n",
              "      <td>-0.8</td>\n",
              "      <td>Flat</td>\n",
              "      <td>1</td>\n",
              "    </tr>\n",
              "    <tr>\n",
              "      <th>352</th>\n",
              "      <td>56</td>\n",
              "      <td>M</td>\n",
              "      <td>ASY</td>\n",
              "      <td>120</td>\n",
              "      <td>0</td>\n",
              "      <td>0</td>\n",
              "      <td>ST</td>\n",
              "      <td>100</td>\n",
              "      <td>Y</td>\n",
              "      <td>-1.0</td>\n",
              "      <td>Down</td>\n",
              "      <td>1</td>\n",
              "    </tr>\n",
              "    <tr>\n",
              "      <th>407</th>\n",
              "      <td>62</td>\n",
              "      <td>M</td>\n",
              "      <td>ASY</td>\n",
              "      <td>115</td>\n",
              "      <td>0</td>\n",
              "      <td>1</td>\n",
              "      <td>Normal</td>\n",
              "      <td>72</td>\n",
              "      <td>Y</td>\n",
              "      <td>-0.5</td>\n",
              "      <td>Flat</td>\n",
              "      <td>1</td>\n",
              "    </tr>\n",
              "    <tr>\n",
              "      <th>413</th>\n",
              "      <td>56</td>\n",
              "      <td>M</td>\n",
              "      <td>NAP</td>\n",
              "      <td>125</td>\n",
              "      <td>0</td>\n",
              "      <td>1</td>\n",
              "      <td>Normal</td>\n",
              "      <td>98</td>\n",
              "      <td>N</td>\n",
              "      <td>-2.0</td>\n",
              "      <td>Flat</td>\n",
              "      <td>1</td>\n",
              "    </tr>\n",
              "    <tr>\n",
              "      <th>421</th>\n",
              "      <td>66</td>\n",
              "      <td>M</td>\n",
              "      <td>NAP</td>\n",
              "      <td>120</td>\n",
              "      <td>0</td>\n",
              "      <td>0</td>\n",
              "      <td>ST</td>\n",
              "      <td>120</td>\n",
              "      <td>N</td>\n",
              "      <td>-0.5</td>\n",
              "      <td>Up</td>\n",
              "      <td>0</td>\n",
              "    </tr>\n",
              "    <tr>\n",
              "      <th>512</th>\n",
              "      <td>35</td>\n",
              "      <td>M</td>\n",
              "      <td>NAP</td>\n",
              "      <td>123</td>\n",
              "      <td>161</td>\n",
              "      <td>0</td>\n",
              "      <td>ST</td>\n",
              "      <td>153</td>\n",
              "      <td>N</td>\n",
              "      <td>-0.1</td>\n",
              "      <td>Up</td>\n",
              "      <td>0</td>\n",
              "    </tr>\n",
              "  </tbody>\n",
              "</table>\n",
              "</div>\n",
              "      <button class=\"colab-df-convert\" onclick=\"convertToInteractive('df-987fa24a-4492-44a7-aed7-f399356fb46c')\"\n",
              "              title=\"Convert this dataframe to an interactive table.\"\n",
              "              style=\"display:none;\">\n",
              "        \n",
              "  <svg xmlns=\"http://www.w3.org/2000/svg\" height=\"24px\"viewBox=\"0 0 24 24\"\n",
              "       width=\"24px\">\n",
              "    <path d=\"M0 0h24v24H0V0z\" fill=\"none\"/>\n",
              "    <path d=\"M18.56 5.44l.94 2.06.94-2.06 2.06-.94-2.06-.94-.94-2.06-.94 2.06-2.06.94zm-11 1L8.5 8.5l.94-2.06 2.06-.94-2.06-.94L8.5 2.5l-.94 2.06-2.06.94zm10 10l.94 2.06.94-2.06 2.06-.94-2.06-.94-.94-2.06-.94 2.06-2.06.94z\"/><path d=\"M17.41 7.96l-1.37-1.37c-.4-.4-.92-.59-1.43-.59-.52 0-1.04.2-1.43.59L10.3 9.45l-7.72 7.72c-.78.78-.78 2.05 0 2.83L4 21.41c.39.39.9.59 1.41.59.51 0 1.02-.2 1.41-.59l7.78-7.78 2.81-2.81c.8-.78.8-2.07 0-2.86zM5.41 20L4 18.59l7.72-7.72 1.47 1.35L5.41 20z\"/>\n",
              "  </svg>\n",
              "      </button>\n",
              "      \n",
              "  <style>\n",
              "    .colab-df-container {\n",
              "      display:flex;\n",
              "      flex-wrap:wrap;\n",
              "      gap: 12px;\n",
              "    }\n",
              "\n",
              "    .colab-df-convert {\n",
              "      background-color: #E8F0FE;\n",
              "      border: none;\n",
              "      border-radius: 50%;\n",
              "      cursor: pointer;\n",
              "      display: none;\n",
              "      fill: #1967D2;\n",
              "      height: 32px;\n",
              "      padding: 0 0 0 0;\n",
              "      width: 32px;\n",
              "    }\n",
              "\n",
              "    .colab-df-convert:hover {\n",
              "      background-color: #E2EBFA;\n",
              "      box-shadow: 0px 1px 2px rgba(60, 64, 67, 0.3), 0px 1px 3px 1px rgba(60, 64, 67, 0.15);\n",
              "      fill: #174EA6;\n",
              "    }\n",
              "\n",
              "    [theme=dark] .colab-df-convert {\n",
              "      background-color: #3B4455;\n",
              "      fill: #D2E3FC;\n",
              "    }\n",
              "\n",
              "    [theme=dark] .colab-df-convert:hover {\n",
              "      background-color: #434B5C;\n",
              "      box-shadow: 0px 1px 3px 1px rgba(0, 0, 0, 0.15);\n",
              "      filter: drop-shadow(0px 1px 2px rgba(0, 0, 0, 0.3));\n",
              "      fill: #FFFFFF;\n",
              "    }\n",
              "  </style>\n",
              "\n",
              "      <script>\n",
              "        const buttonEl =\n",
              "          document.querySelector('#df-987fa24a-4492-44a7-aed7-f399356fb46c button.colab-df-convert');\n",
              "        buttonEl.style.display =\n",
              "          google.colab.kernel.accessAllowed ? 'block' : 'none';\n",
              "\n",
              "        async function convertToInteractive(key) {\n",
              "          const element = document.querySelector('#df-987fa24a-4492-44a7-aed7-f399356fb46c');\n",
              "          const dataTable =\n",
              "            await google.colab.kernel.invokeFunction('convertToInteractive',\n",
              "                                                     [key], {});\n",
              "          if (!dataTable) return;\n",
              "\n",
              "          const docLinkHtml = 'Like what you see? Visit the ' +\n",
              "            '<a target=\"_blank\" href=https://colab.research.google.com/notebooks/data_table.ipynb>data table notebook</a>'\n",
              "            + ' to learn more about interactive tables.';\n",
              "          element.innerHTML = '';\n",
              "          dataTable['output_type'] = 'display_data';\n",
              "          await google.colab.output.renderOutput(dataTable, element);\n",
              "          const docLink = document.createElement('div');\n",
              "          docLink.innerHTML = docLinkHtml;\n",
              "          element.appendChild(docLink);\n",
              "        }\n",
              "      </script>\n",
              "    </div>\n",
              "  </div>\n",
              "  "
            ]
          },
          "metadata": {},
          "execution_count": 92
        }
      ]
    },
    {
      "cell_type": "code",
      "source": [
        "\n",
        "old_peak['HeartDisease'].value_counts(normalize=True)"
      ],
      "metadata": {
        "colab": {
          "base_uri": "https://localhost:8080/"
        },
        "id": "krBI-gseUoRH",
        "outputId": "b145a778-d48c-4409-997a-bb62b8f3b1b0"
      },
      "execution_count": 159,
      "outputs": [
        {
          "output_type": "execute_result",
          "data": {
            "text/plain": [
              "1    0.692308\n",
              "0    0.307692\n",
              "Name: HeartDisease, dtype: float64"
            ]
          },
          "metadata": {},
          "execution_count": 159
        }
      ]
    },
    {
      "cell_type": "markdown",
      "source": [
        "# Conclusion\n"
      ],
      "metadata": {
        "id": "ii85emWONJ8t"
      }
    },
    {
      "cell_type": "markdown",
      "source": [
        "# Bivariate analysis"
      ],
      "metadata": {
        "id": "0nVlxUNFhxTA"
      }
    },
    {
      "cell_type": "code",
      "source": [
        "# boxplot\n",
        "df.boxplot(column='Age',by='HeartDisease')"
      ],
      "metadata": {
        "colab": {
          "base_uri": "https://localhost:8080/",
          "height": 375
        },
        "id": "_Ez79DOy2zBE",
        "outputId": "79d75ef4-5a0a-47f1-86e2-b3c59d8e4255"
      },
      "execution_count": null,
      "outputs": [
        {
          "output_type": "stream",
          "name": "stderr",
          "text": [
            "/usr/local/lib/python3.7/dist-packages/matplotlib/cbook/__init__.py:1376: VisibleDeprecationWarning: Creating an ndarray from ragged nested sequences (which is a list-or-tuple of lists-or-tuples-or ndarrays with different lengths or shapes) is deprecated. If you meant to do this, you must specify 'dtype=object' when creating the ndarray.\n",
            "  X = np.atleast_1d(X.T if isinstance(X, np.ndarray) else np.asarray(X))\n"
          ]
        },
        {
          "output_type": "execute_result",
          "data": {
            "text/plain": [
              "<matplotlib.axes._subplots.AxesSubplot at 0x7ff98894df90>"
            ]
          },
          "metadata": {},
          "execution_count": 94
        },
        {
          "output_type": "display_data",
          "data": {
            "text/plain": [
              "<Figure size 432x288 with 1 Axes>"
            ],
            "image/png": "[encoded data removed]"
          },
          "metadata": {
            "needs_background": "light"
          }
        }
      ]
    },
    {
      "cell_type": "markdown",
      "source": [
        "The mean age of most heart disease patiences is 55"
      ],
      "metadata": {
        "id": "UoJyFzZl3D8G"
      }
    },
    {
      "cell_type": "code",
      "source": [
        "fig, ax1 = plt.subplots(figsize=(8,5))\n",
        "testplot = sns.boxplot(ax=ax1,x='ChestPainType',y='Age',hue='HeartDisease',data=df)"
      ],
      "metadata": {
        "colab": {
          "base_uri": "https://localhost:8080/",
          "height": 334
        },
        "id": "c4HADbIZ6RPh",
        "outputId": "5e736bf0-1290-407f-ece3-99381f9afc52"
      },
      "execution_count": null,
      "outputs": [
        {
          "output_type": "display_data",
          "data": {
            "text/plain": [
              "<Figure size 576x360 with 1 Axes>"
            ],
            "image/png": "[encoded data removed]"
          },
          "metadata": {
            "needs_background": "light"
          }
        }
      ]
    },
    {
      "cell_type": "code",
      "source": [
        "fig, ax1 = plt.subplots(figsize=(8,5))\n",
        "testplot = sns.boxplot(ax=ax1,x='ST_Slope',y='Age',hue='HeartDisease',data=df)"
      ],
      "metadata": {
        "colab": {
          "base_uri": "https://localhost:8080/",
          "height": 335
        },
        "id": "YViUYHWP7lGu",
        "outputId": "b6aed87c-593d-4ebd-df5a-60a23a8455a8"
      },
      "execution_count": null,
      "outputs": [
        {
          "output_type": "display_data",
          "data": {
            "text/plain": [
              "<Figure size 576x360 with 1 Axes>"
            ],
            "image/png": "[encoded data removed]"
          },
          "metadata": {
            "needs_background": "light"
          }
        }
      ]
    },
    {
      "cell_type": "markdown",
      "source": [
        "# CONCLUSION\n",
        "# Age and Heart Disease have postive relationship"
      ],
      "metadata": {
        "id": "ghP376NpLs3G"
      }
    },
    {
      "cell_type": "code",
      "source": [
        "df.columns"
      ],
      "metadata": {
        "colab": {
          "base_uri": "https://localhost:8080/"
        },
        "id": "k2lnU6tkiUiM",
        "outputId": "e8b39b48-4e69-457f-a621-c880d474e784"
      },
      "execution_count": null,
      "outputs": [
        {
          "output_type": "execute_result",
          "data": {
            "text/plain": [
              "Index(['Age', 'Sex', 'ChestPainType', 'RestingBP', 'Cholesterol', 'FastingBS',\n",
              "       'RestingECG', 'MaxHR', 'ExerciseAngina', 'Oldpeak', 'ST_Slope',\n",
              "       'HeartDisease'],\n",
              "      dtype='object')"
            ]
          },
          "metadata": {},
          "execution_count": 97
        }
      ]
    },
    {
      "cell_type": "code",
      "source": [
        "# kde age\n",
        "plt.figure(figsize=(15,5))\n",
        "sns.kdeplot(df['Age'],hue=df['HeartDisease'])\n",
        "plt.title('KDE Age')"
      ],
      "metadata": {
        "colab": {
          "base_uri": "https://localhost:8080/",
          "height": 368
        },
        "id": "V0j727z7km8q",
        "outputId": "d83b12ad-66a8-4420-8385-9dad447e7ca1"
      },
      "execution_count": null,
      "outputs": [
        {
          "output_type": "execute_result",
          "data": {
            "text/plain": [
              "Text(0.5, 1.0, 'KDE Age')"
            ]
          },
          "metadata": {},
          "execution_count": 98
        },
        {
          "output_type": "display_data",
          "data": {
            "text/plain": [
              "<Figure size 1080x360 with 1 Axes>"
            ],
            "image/png": "[encoded data removed]"
          },
          "metadata": {
            "needs_background": "light"
          }
        }
      ]
    },
    {
      "cell_type": "code",
      "source": [
        "# kde maxHR\n",
        "plt.figure(figsize=(15,5))\n",
        "sns.kdeplot(df['RestingBP'],hue=df['HeartDisease'])\n",
        "plt.title('KDE RestingBP')"
      ],
      "metadata": {
        "colab": {
          "base_uri": "https://localhost:8080/",
          "height": 368
        },
        "id": "aDdVRsvtkm4P",
        "outputId": "fa332e96-2752-45bd-e580-c3ed16110992"
      },
      "execution_count": null,
      "outputs": [
        {
          "output_type": "execute_result",
          "data": {
            "text/plain": [
              "Text(0.5, 1.0, 'KDE RestingBP')"
            ]
          },
          "metadata": {},
          "execution_count": 99
        },
        {
          "output_type": "display_data",
          "data": {
            "text/plain": [
              "<Figure size 1080x360 with 1 Axes>"
            ],
            "image/png": "[encoded data removed]"
          },
          "metadata": {
            "needs_background": "light"
          }
        }
      ]
    },
    {
      "cell_type": "code",
      "source": [
        "# KDE Cholesterol\n",
        "plt.figure(figsize=(15,5))\n",
        "sns.kdeplot(df['Cholesterol'],hue=df['HeartDisease'])\n",
        "plt.title('KDE Cholesterol')"
      ],
      "metadata": {
        "colab": {
          "base_uri": "https://localhost:8080/",
          "height": 366
        },
        "id": "clv0xWY6kmzV",
        "outputId": "9ba7d87c-f20b-4b70-81c4-c03fe720cf44"
      },
      "execution_count": null,
      "outputs": [
        {
          "output_type": "execute_result",
          "data": {
            "text/plain": [
              "Text(0.5, 1.0, 'KDE Cholesterol')"
            ]
          },
          "metadata": {},
          "execution_count": 100
        },
        {
          "output_type": "display_data",
          "data": {
            "text/plain": [
              "<Figure size 1080x360 with 1 Axes>"
            ],
            "image/png": "[encoded data removed]"
          },
          "metadata": {
            "needs_background": "light"
          }
        }
      ]
    },
    {
      "cell_type": "code",
      "source": [
        "# kde MaxHR\n",
        "plt.figure(figsize=(15,5))\n",
        "sns.kdeplot(df['MaxHR'],hue=df['HeartDisease'])\n",
        "plt.title('KDE MaxHR')"
      ],
      "metadata": {
        "colab": {
          "base_uri": "https://localhost:8080/",
          "height": 368
        },
        "id": "dnZbiFy9kmse",
        "outputId": "9d8e216e-e32c-402e-dad1-29f88b0e5dfd"
      },
      "execution_count": null,
      "outputs": [
        {
          "output_type": "execute_result",
          "data": {
            "text/plain": [
              "Text(0.5, 1.0, 'KDE MaxHR')"
            ]
          },
          "metadata": {},
          "execution_count": 101
        },
        {
          "output_type": "display_data",
          "data": {
            "text/plain": [
              "<Figure size 1080x360 with 1 Axes>"
            ],
            "image/png": "[encoded data removed]"
          },
          "metadata": {
            "needs_background": "light"
          }
        }
      ]
    },
    {
      "cell_type": "code",
      "source": [
        "# KDE Oldpeak\n",
        "plt.figure(figsize=(15,5))\n",
        "sns.kdeplot(df['Oldpeak'],hue=df['HeartDisease'])\n",
        "plt.title('KDE Oldpeak')"
      ],
      "metadata": {
        "colab": {
          "base_uri": "https://localhost:8080/",
          "height": 368
        },
        "id": "p4uk1rs0jYzc",
        "outputId": "946223a7-ac4a-41db-da7f-4d51d0dd790b"
      },
      "execution_count": null,
      "outputs": [
        {
          "output_type": "execute_result",
          "data": {
            "text/plain": [
              "Text(0.5, 1.0, 'KDE Oldpeak')"
            ]
          },
          "metadata": {},
          "execution_count": 102
        },
        {
          "output_type": "display_data",
          "data": {
            "text/plain": [
              "<Figure size 1080x360 with 1 Axes>"
            ],
            "image/png": "[encoded data removed]"
          },
          "metadata": {
            "needs_background": "light"
          }
        }
      ]
    },
    {
      "cell_type": "markdown",
      "source": [
        "# CONCLUSION\n",
        "# HeartDisease risk increases as age increases from 50 to 60.\n",
        "# the value of 200 and 0 is good for non-heartDisease but others.\n",
        "# The value of 120 of MaxHR has great distribution for heartDisease whereas maxhr increases heartDisease rate decreases.\n",
        "# Oldpeak and heartdisease have postive relationship, old peak rate increases and heartDisease rate increases."
      ],
      "metadata": {
        "id": "HgkCOMhwKFrb"
      }
    },
    {
      "cell_type": "code",
      "source": [
        "df.columns"
      ],
      "metadata": {
        "colab": {
          "base_uri": "https://localhost:8080/"
        },
        "id": "w5xzfWeVThoe",
        "outputId": "bb92b02b-0604-4274-cf35-3ef62171d7e4"
      },
      "execution_count": null,
      "outputs": [
        {
          "output_type": "execute_result",
          "data": {
            "text/plain": [
              "Index(['Age', 'Sex', 'ChestPainType', 'RestingBP', 'Cholesterol', 'FastingBS',\n",
              "       'RestingECG', 'MaxHR', 'ExerciseAngina', 'Oldpeak', 'ST_Slope',\n",
              "       'HeartDisease'],\n",
              "      dtype='object')"
            ]
          },
          "metadata": {},
          "execution_count": 103
        }
      ]
    },
    {
      "cell_type": "code",
      "source": [
        "df2 = df.copy()"
      ],
      "metadata": {
        "id": "UE0_GEN-Gj_j"
      },
      "execution_count": null,
      "outputs": []
    },
    {
      "cell_type": "code",
      "source": [
        "group_sex = df.groupby('Sex')['HeartDisease'].value_counts(normalize=True)\n",
        "group_sex"
      ],
      "metadata": {
        "colab": {
          "base_uri": "https://localhost:8080/"
        },
        "id": "PzaAoiN2o8yI",
        "outputId": "e8cdd49f-25a5-420d-a0bc-b1bcb1175b2a"
      },
      "execution_count": null,
      "outputs": [
        {
          "output_type": "execute_result",
          "data": {
            "text/plain": [
              "Sex  HeartDisease\n",
              "F    0               0.740933\n",
              "     1               0.259067\n",
              "M    1               0.631724\n",
              "     0               0.368276\n",
              "Name: HeartDisease, dtype: float64"
            ]
          },
          "metadata": {},
          "execution_count": 104
        }
      ]
    },
    {
      "cell_type": "code",
      "source": [
        "# pie chart dstribution of sex in HeartDisease\n",
        "from google.colab import files\n",
        "df.groupby('Sex')['HeartDisease'].value_counts(normalize=True).plot(kind='pie',autopct='%.2f',subplots=True)\n",
        "plt.savefig('sex.png') \n",
        "files.download('sex.png') "
      ],
      "metadata": {
        "colab": {
          "base_uri": "https://localhost:8080/",
          "height": 248
        },
        "id": "BKBW-hgytiPH",
        "outputId": "1a61e0c6-4c33-46df-a62b-a74bff035104"
      },
      "execution_count": 162,
      "outputs": [
        {
          "output_type": "display_data",
          "data": {
            "text/plain": [
              "<IPython.core.display.Javascript object>"
            ],
            "application/javascript": [
              "\n",
              "    async function download(id, filename, size) {\n",
              "      if (!google.colab.kernel.accessAllowed) {\n",
              "        return;\n",
              "      }\n",
              "      const div = document.createElement('div');\n",
              "      const label = document.createElement('label');\n",
              "      label.textContent = `Downloading \"${filename}\": `;\n",
              "      div.appendChild(label);\n",
              "      const progress = document.createElement('progress');\n",
              "      progress.max = size;\n",
              "      div.appendChild(progress);\n",
              "      document.body.appendChild(div);\n",
              "\n",
              "      const buffers = [];\n",
              "      let downloaded = 0;\n",
              "\n",
              "      const channel = await google.colab.kernel.comms.open(id);\n",
              "      // Send a message to notify the kernel that we're ready.\n",
              "      channel.send({})\n",
              "\n",
              "      for await (const message of channel.messages) {\n",
              "        // Send a message to notify the kernel that we're ready.\n",
              "        channel.send({})\n",
              "        if (message.buffers) {\n",
              "          for (const buffer of message.buffers) {\n",
              "            buffers.push(buffer);\n",
              "            downloaded += buffer.byteLength;\n",
              "            progress.value = downloaded;\n",
              "          }\n",
              "        }\n",
              "      }\n",
              "      const blob = new Blob(buffers, {type: 'application/binary'});\n",
              "      const a = document.createElement('a');\n",
              "      a.href = window.URL.createObjectURL(blob);\n",
              "      a.download = filename;\n",
              "      div.appendChild(a);\n",
              "      a.click();\n",
              "      div.remove();\n",
              "    }\n",
              "  "
            ]
          },
          "metadata": {}
        },
        {
          "output_type": "display_data",
          "data": {
            "text/plain": [
              "<IPython.core.display.Javascript object>"
            ],
            "application/javascript": [
              "download(\"download_580a0edd-93cf-4118-997f-cc46102722cc\", \"sex.png\", 12086)"
            ]
          },
          "metadata": {}
        },
        {
          "output_type": "display_data",
          "data": {
            "text/plain": [
              "<Figure size 432x288 with 1 Axes>"
            ],
            "image/png": "[encoded data removed]"
          },
          "metadata": {}
        }
      ]
    },
    {
      "cell_type": "code",
      "source": [
        "group_chestpain = df.groupby('ChestPainType')['HeartDisease'].value_counts(normalize=True)\n",
        "group_chestpain"
      ],
      "metadata": {
        "colab": {
          "base_uri": "https://localhost:8080/"
        },
        "id": "vh5DCAkiJRuX",
        "outputId": "43489e13-fae2-4367-fbe2-81be6e0363d1"
      },
      "execution_count": null,
      "outputs": [
        {
          "output_type": "execute_result",
          "data": {
            "text/plain": [
              "ChestPainType  HeartDisease\n",
              "ASY            1               0.790323\n",
              "               0               0.209677\n",
              "ATA            0               0.861272\n",
              "               1               0.138728\n",
              "NAP            0               0.645320\n",
              "               1               0.354680\n",
              "TA             0               0.565217\n",
              "               1               0.434783\n",
              "Name: HeartDisease, dtype: float64"
            ]
          },
          "metadata": {},
          "execution_count": 105
        }
      ]
    },
    {
      "cell_type": "code",
      "source": [
        "df.groupby('ChestPainType')['HeartDisease'].value_counts(normalize=True).plot(kind='pie',autopct='%.2f')"
      ],
      "metadata": {
        "colab": {
          "base_uri": "https://localhost:8080/",
          "height": 266
        },
        "id": "x7fpUKeDW4Rr",
        "outputId": "d155e854-0e13-4256-9e29-0cf1e9961f14"
      },
      "execution_count": null,
      "outputs": [
        {
          "output_type": "execute_result",
          "data": {
            "text/plain": [
              "<matplotlib.axes._subplots.AxesSubplot at 0x7ff985db5bd0>"
            ]
          },
          "metadata": {},
          "execution_count": 106
        },
        {
          "output_type": "display_data",
          "data": {
            "text/plain": [
              "<Figure size 432x288 with 1 Axes>"
            ],
            "image/png": "[encoded data removed]"
          },
          "metadata": {}
        }
      ]
    },
    {
      "cell_type": "code",
      "source": [
        "df.groupby('RestingECG')['HeartDisease'].value_counts(normalize=True)"
      ],
      "metadata": {
        "colab": {
          "base_uri": "https://localhost:8080/"
        },
        "id": "rsGZWSEFw6CX",
        "outputId": "55abf72d-76c3-48df-a623-00bd14cfd075"
      },
      "execution_count": null,
      "outputs": [
        {
          "output_type": "execute_result",
          "data": {
            "text/plain": [
              "RestingECG  HeartDisease\n",
              "LVH         1               0.563830\n",
              "            0               0.436170\n",
              "Normal      1               0.516304\n",
              "            0               0.483696\n",
              "ST          1               0.657303\n",
              "            0               0.342697\n",
              "Name: HeartDisease, dtype: float64"
            ]
          },
          "metadata": {},
          "execution_count": 107
        }
      ]
    },
    {
      "cell_type": "code",
      "source": [
        "group_resting = df.groupby('RestingECG')['HeartDisease'].value_counts(normalize=True).plot(kind='pie',autopct='%.2f')\n",
        "group_resting"
      ],
      "metadata": {
        "colab": {
          "base_uri": "https://localhost:8080/",
          "height": 266
        },
        "id": "KW3LGHxtu4FN",
        "outputId": "8ac304b8-458f-4c31-a53a-0dd1d5f8653a"
      },
      "execution_count": null,
      "outputs": [
        {
          "output_type": "execute_result",
          "data": {
            "text/plain": [
              "<matplotlib.axes._subplots.AxesSubplot at 0x7ff988a21c10>"
            ]
          },
          "metadata": {},
          "execution_count": 108
        },
        {
          "output_type": "display_data",
          "data": {
            "text/plain": [
              "<Figure size 432x288 with 1 Axes>"
            ],
            "image/png": "[encoded data removed]"
          },
          "metadata": {}
        }
      ]
    },
    {
      "cell_type": "code",
      "source": [
        "group_exercise = df.groupby('ExerciseAngina')['HeartDisease'].value_counts(normalize=True)\n",
        "group_exercise"
      ],
      "metadata": {
        "colab": {
          "base_uri": "https://localhost:8080/"
        },
        "id": "KQkw6o6Ju4CH",
        "outputId": "92d63b54-f422-442e-938e-420bf9ab399f"
      },
      "execution_count": null,
      "outputs": [
        {
          "output_type": "execute_result",
          "data": {
            "text/plain": [
              "ExerciseAngina  HeartDisease\n",
              "N               0               0.648995\n",
              "                1               0.351005\n",
              "Y               1               0.851752\n",
              "                0               0.148248\n",
              "Name: HeartDisease, dtype: float64"
            ]
          },
          "metadata": {},
          "execution_count": 109
        }
      ]
    },
    {
      "cell_type": "code",
      "source": [
        "df.groupby('ExerciseAngina')['HeartDisease'].value_counts(normalize=True).plot(kind='pie',autopct='%.2f')"
      ],
      "metadata": {
        "colab": {
          "base_uri": "https://localhost:8080/",
          "height": 266
        },
        "id": "ZTvPHnDrXApp",
        "outputId": "388f6aca-7b6f-469d-ab34-59e2e133f6c8"
      },
      "execution_count": null,
      "outputs": [
        {
          "output_type": "execute_result",
          "data": {
            "text/plain": [
              "<matplotlib.axes._subplots.AxesSubplot at 0x7ff988b4b890>"
            ]
          },
          "metadata": {},
          "execution_count": 110
        },
        {
          "output_type": "display_data",
          "data": {
            "text/plain": [
              "<Figure size 432x288 with 1 Axes>"
            ],
            "image/png": "[encoded data removed]"
          },
          "metadata": {}
        }
      ]
    },
    {
      "cell_type": "code",
      "source": [
        "group_slope = df.groupby('ST_Slope')['HeartDisease'].value_counts(normalize=True)\n",
        "group_slope"
      ],
      "metadata": {
        "colab": {
          "base_uri": "https://localhost:8080/"
        },
        "id": "x5kATSEsu3_q",
        "outputId": "3f196ce7-2ae9-46cd-845e-d3c544306f73"
      },
      "execution_count": null,
      "outputs": [
        {
          "output_type": "execute_result",
          "data": {
            "text/plain": [
              "ST_Slope  HeartDisease\n",
              "Down      1               0.777778\n",
              "          0               0.222222\n",
              "Flat      1               0.828261\n",
              "          0               0.171739\n",
              "Up        0               0.802532\n",
              "          1               0.197468\n",
              "Name: HeartDisease, dtype: float64"
            ]
          },
          "metadata": {},
          "execution_count": 111
        }
      ]
    },
    {
      "cell_type": "code",
      "source": [
        "df.groupby('ST_Slope')['HeartDisease'].value_counts(normalize=True).plot(kind='pie',autopct='%.2f')"
      ],
      "metadata": {
        "colab": {
          "base_uri": "https://localhost:8080/",
          "height": 266
        },
        "id": "H7E5bysOu39O",
        "outputId": "ec740b43-0b09-4a29-c293-6c2ccc5272ca"
      },
      "execution_count": null,
      "outputs": [
        {
          "output_type": "execute_result",
          "data": {
            "text/plain": [
              "<matplotlib.axes._subplots.AxesSubplot at 0x7ff988b04890>"
            ]
          },
          "metadata": {},
          "execution_count": 112
        },
        {
          "output_type": "display_data",
          "data": {
            "text/plain": [
              "<Figure size 432x288 with 1 Axes>"
            ],
            "image/png": "[encoded data removed]"
          },
          "metadata": {}
        }
      ]
    },
    {
      "cell_type": "markdown",
      "source": [
        "# conclusion\n",
        "1.male is mainly affected by heart disease, there is 31.59% male of total population have heart Diease, 12.95% female of total population have heart Diease.\n",
        "37.05% female non-heartDisease\n",
        "18.41% male non-heartDisease\n",
        "\n",
        "2. ASY chest pain has great distribution on heart Disease, which is 79% and 42.51% for total population.\n",
        "\n",
        "3. ST(RestingECG) has great distribution on heart Disease, which is 65% and 19.76% for total population.\n",
        "\n",
        "4.Y(ExerciseAngina) has great has great distribution on heart Disease, which is 85% and 42.59% for total population.\n",
        "\n",
        "5.Done(ST_Slope) has great has great distribution on heart Disease, which is 78% and 25.93% for total population."
      ],
      "metadata": {
        "id": "5KEV0cbjXpnw"
      }
    },
    {
      "cell_type": "code",
      "source": [
        "sns.heatmap(df.corr(),cmap='coolwarm',annot=True)"
      ],
      "metadata": {
        "colab": {
          "base_uri": "https://localhost:8080/",
          "height": 345
        },
        "id": "MPbILbpoKfEQ",
        "outputId": "84f08cd0-b51a-4eef-9951-c3b69e6b3ef6"
      },
      "execution_count": null,
      "outputs": [
        {
          "output_type": "execute_result",
          "data": {
            "text/plain": [
              "<matplotlib.axes._subplots.AxesSubplot at 0x7ff984ac38d0>"
            ]
          },
          "metadata": {},
          "execution_count": 113
        },
        {
          "output_type": "display_data",
          "data": {
            "text/plain": [
              "<Figure size 432x288 with 2 Axes>"
            ],
            "image/png": "[encoded data removed]"
          },
          "metadata": {
            "needs_background": "light"
          }
        }
      ]
    },
    {
      "cell_type": "markdown",
      "source": [
        "Age, Resting BP, FastingBS, Oldpeak have postive relationship with HeartDiease.\n",
        "\n"
      ],
      "metadata": {
        "id": "OIYi-4BlFxjY"
      }
    },
    {
      "cell_type": "code",
      "source": [
        "df.columns"
      ],
      "metadata": {
        "colab": {
          "base_uri": "https://localhost:8080/"
        },
        "id": "mvv_lgVGSqXW",
        "outputId": "233dd1eb-f78d-4d26-a9d9-800f64c33107"
      },
      "execution_count": null,
      "outputs": [
        {
          "output_type": "execute_result",
          "data": {
            "text/plain": [
              "Index(['Age', 'Sex', 'ChestPainType', 'RestingBP', 'Cholesterol', 'FastingBS',\n",
              "       'RestingECG', 'MaxHR', 'ExerciseAngina', 'Oldpeak', 'ST_Slope',\n",
              "       'HeartDisease'],\n",
              "      dtype='object')"
            ]
          },
          "metadata": {},
          "execution_count": 114
        }
      ]
    },
    {
      "cell_type": "code",
      "source": [
        "# look up any specific value in the data set\n",
        "str_cols =['Age', 'Sex', 'ChestPainType', 'RestingBP', 'Cholesterol', 'FastingBS',\n",
        "       'RestingECG', 'MaxHR', 'ExerciseAngina', 'Oldpeak', 'ST_Slope',\n",
        "       'HeartDisease']\n"
      ],
      "metadata": {
        "id": "sa0Dg0wzI3bO"
      },
      "execution_count": null,
      "outputs": []
    },
    {
      "cell_type": "code",
      "source": [
        "df.shape"
      ],
      "metadata": {
        "colab": {
          "base_uri": "https://localhost:8080/"
        },
        "id": "1L6Bpz4uS7pJ",
        "outputId": "e6c5331c-d9c9-4dd0-e442-3c7f3cc9f2b4"
      },
      "execution_count": null,
      "outputs": [
        {
          "output_type": "execute_result",
          "data": {
            "text/plain": [
              "(918, 12)"
            ]
          },
          "metadata": {},
          "execution_count": 116
        }
      ]
    },
    {
      "cell_type": "code",
      "source": [
        "df['FastingBS'].value_counts()"
      ],
      "metadata": {
        "colab": {
          "base_uri": "https://localhost:8080/"
        },
        "id": "7LwYtdpfUqDX",
        "outputId": "61d00ec7-21ea-4486-adbc-a6f4ed0b7129"
      },
      "execution_count": null,
      "outputs": [
        {
          "output_type": "execute_result",
          "data": {
            "text/plain": [
              "0    704\n",
              "1    214\n",
              "Name: FastingBS, dtype: int64"
            ]
          },
          "metadata": {},
          "execution_count": 117
        }
      ]
    },
    {
      "cell_type": "code",
      "source": [
        "df['HeartDisease'].value_counts(normalize=True)"
      ],
      "metadata": {
        "colab": {
          "base_uri": "https://localhost:8080/"
        },
        "id": "iCF8DIjNOHDi",
        "outputId": "7f849710-575f-444f-f82c-6fbb5fc0c6d6"
      },
      "execution_count": null,
      "outputs": [
        {
          "output_type": "execute_result",
          "data": {
            "text/plain": [
              "1    0.553377\n",
              "0    0.446623\n",
              "Name: HeartDisease, dtype: float64"
            ]
          },
          "metadata": {},
          "execution_count": 118
        }
      ]
    },
    {
      "cell_type": "code",
      "source": [
        "df.describe()"
      ],
      "metadata": {
        "colab": {
          "base_uri": "https://localhost:8080/",
          "height": 300
        },
        "id": "8sO12IFWIobv",
        "outputId": "ed2a7197-1679-40e3-b478-bd99b930375f"
      },
      "execution_count": null,
      "outputs": [
        {
          "output_type": "execute_result",
          "data": {
            "text/plain": [
              "              Age   RestingBP  Cholesterol   FastingBS       MaxHR  \\\n",
              "count  918.000000  918.000000   918.000000  918.000000  918.000000   \n",
              "mean    53.510893  132.396514   198.799564    0.233115  136.809368   \n",
              "std      9.432617   18.514154   109.384145    0.423046   25.460334   \n",
              "min     28.000000    0.000000     0.000000    0.000000   60.000000   \n",
              "25%     47.000000  120.000000   173.250000    0.000000  120.000000   \n",
              "50%     54.000000  130.000000   223.000000    0.000000  138.000000   \n",
              "75%     60.000000  140.000000   267.000000    0.000000  156.000000   \n",
              "max     77.000000  200.000000   603.000000    1.000000  202.000000   \n",
              "\n",
              "          Oldpeak  HeartDisease  \n",
              "count  918.000000    918.000000  \n",
              "mean     0.887364      0.553377  \n",
              "std      1.066570      0.497414  \n",
              "min     -2.600000      0.000000  \n",
              "25%      0.000000      0.000000  \n",
              "50%      0.600000      1.000000  \n",
              "75%      1.500000      1.000000  \n",
              "max      6.200000      1.000000  "
            ],
            "text/html": [
              "\n",
              "  <div id=\"df-b8d4a67c-e8e4-4144-a23d-1faa26a9830f\">\n",
              "    <div class=\"colab-df-container\">\n",
              "      <div>\n",
              "<style scoped>\n",
              "    .dataframe tbody tr th:only-of-type {\n",
              "        vertical-align: middle;\n",
              "    }\n",
              "\n",
              "    .dataframe tbody tr th {\n",
              "        vertical-align: top;\n",
              "    }\n",
              "\n",
              "    .dataframe thead th {\n",
              "        text-align: right;\n",
              "    }\n",
              "</style>\n",
              "<table border=\"1\" class=\"dataframe\">\n",
              "  <thead>\n",
              "    <tr style=\"text-align: right;\">\n",
              "      <th></th>\n",
              "      <th>Age</th>\n",
              "      <th>RestingBP</th>\n",
              "      <th>Cholesterol</th>\n",
              "      <th>FastingBS</th>\n",
              "      <th>MaxHR</th>\n",
              "      <th>Oldpeak</th>\n",
              "      <th>HeartDisease</th>\n",
              "    </tr>\n",
              "  </thead>\n",
              "  <tbody>\n",
              "    <tr>\n",
              "      <th>count</th>\n",
              "      <td>918.000000</td>\n",
              "      <td>918.000000</td>\n",
              "      <td>918.000000</td>\n",
              "      <td>918.000000</td>\n",
              "      <td>918.000000</td>\n",
              "      <td>918.000000</td>\n",
              "      <td>918.000000</td>\n",
              "    </tr>\n",
              "    <tr>\n",
              "      <th>mean</th>\n",
              "      <td>53.510893</td>\n",
              "      <td>132.396514</td>\n",
              "      <td>198.799564</td>\n",
              "      <td>0.233115</td>\n",
              "      <td>136.809368</td>\n",
              "      <td>0.887364</td>\n",
              "      <td>0.553377</td>\n",
              "    </tr>\n",
              "    <tr>\n",
              "      <th>std</th>\n",
              "      <td>9.432617</td>\n",
              "      <td>18.514154</td>\n",
              "      <td>109.384145</td>\n",
              "      <td>0.423046</td>\n",
              "      <td>25.460334</td>\n",
              "      <td>1.066570</td>\n",
              "      <td>0.497414</td>\n",
              "    </tr>\n",
              "    <tr>\n",
              "      <th>min</th>\n",
              "      <td>28.000000</td>\n",
              "      <td>0.000000</td>\n",
              "      <td>0.000000</td>\n",
              "      <td>0.000000</td>\n",
              "      <td>60.000000</td>\n",
              "      <td>-2.600000</td>\n",
              "      <td>0.000000</td>\n",
              "    </tr>\n",
              "    <tr>\n",
              "      <th>25%</th>\n",
              "      <td>47.000000</td>\n",
              "      <td>120.000000</td>\n",
              "      <td>173.250000</td>\n",
              "      <td>0.000000</td>\n",
              "      <td>120.000000</td>\n",
              "      <td>0.000000</td>\n",
              "      <td>0.000000</td>\n",
              "    </tr>\n",
              "    <tr>\n",
              "      <th>50%</th>\n",
              "      <td>54.000000</td>\n",
              "      <td>130.000000</td>\n",
              "      <td>223.000000</td>\n",
              "      <td>0.000000</td>\n",
              "      <td>138.000000</td>\n",
              "      <td>0.600000</td>\n",
              "      <td>1.000000</td>\n",
              "    </tr>\n",
              "    <tr>\n",
              "      <th>75%</th>\n",
              "      <td>60.000000</td>\n",
              "      <td>140.000000</td>\n",
              "      <td>267.000000</td>\n",
              "      <td>0.000000</td>\n",
              "      <td>156.000000</td>\n",
              "      <td>1.500000</td>\n",
              "      <td>1.000000</td>\n",
              "    </tr>\n",
              "    <tr>\n",
              "      <th>max</th>\n",
              "      <td>77.000000</td>\n",
              "      <td>200.000000</td>\n",
              "      <td>603.000000</td>\n",
              "      <td>1.000000</td>\n",
              "      <td>202.000000</td>\n",
              "      <td>6.200000</td>\n",
              "      <td>1.000000</td>\n",
              "    </tr>\n",
              "  </tbody>\n",
              "</table>\n",
              "</div>\n",
              "      <button class=\"colab-df-convert\" onclick=\"convertToInteractive('df-b8d4a67c-e8e4-4144-a23d-1faa26a9830f')\"\n",
              "              title=\"Convert this dataframe to an interactive table.\"\n",
              "              style=\"display:none;\">\n",
              "        \n",
              "  <svg xmlns=\"http://www.w3.org/2000/svg\" height=\"24px\"viewBox=\"0 0 24 24\"\n",
              "       width=\"24px\">\n",
              "    <path d=\"M0 0h24v24H0V0z\" fill=\"none\"/>\n",
              "    <path d=\"M18.56 5.44l.94 2.06.94-2.06 2.06-.94-2.06-.94-.94-2.06-.94 2.06-2.06.94zm-11 1L8.5 8.5l.94-2.06 2.06-.94-2.06-.94L8.5 2.5l-.94 2.06-2.06.94zm10 10l.94 2.06.94-2.06 2.06-.94-2.06-.94-.94-2.06-.94 2.06-2.06.94z\"/><path d=\"M17.41 7.96l-1.37-1.37c-.4-.4-.92-.59-1.43-.59-.52 0-1.04.2-1.43.59L10.3 9.45l-7.72 7.72c-.78.78-.78 2.05 0 2.83L4 21.41c.39.39.9.59 1.41.59.51 0 1.02-.2 1.41-.59l7.78-7.78 2.81-2.81c.8-.78.8-2.07 0-2.86zM5.41 20L4 18.59l7.72-7.72 1.47 1.35L5.41 20z\"/>\n",
              "  </svg>\n",
              "      </button>\n",
              "      \n",
              "  <style>\n",
              "    .colab-df-container {\n",
              "      display:flex;\n",
              "      flex-wrap:wrap;\n",
              "      gap: 12px;\n",
              "    }\n",
              "\n",
              "    .colab-df-convert {\n",
              "      background-color: #E8F0FE;\n",
              "      border: none;\n",
              "      border-radius: 50%;\n",
              "      cursor: pointer;\n",
              "      display: none;\n",
              "      fill: #1967D2;\n",
              "      height: 32px;\n",
              "      padding: 0 0 0 0;\n",
              "      width: 32px;\n",
              "    }\n",
              "\n",
              "    .colab-df-convert:hover {\n",
              "      background-color: #E2EBFA;\n",
              "      box-shadow: 0px 1px 2px rgba(60, 64, 67, 0.3), 0px 1px 3px 1px rgba(60, 64, 67, 0.15);\n",
              "      fill: #174EA6;\n",
              "    }\n",
              "\n",
              "    [theme=dark] .colab-df-convert {\n",
              "      background-color: #3B4455;\n",
              "      fill: #D2E3FC;\n",
              "    }\n",
              "\n",
              "    [theme=dark] .colab-df-convert:hover {\n",
              "      background-color: #434B5C;\n",
              "      box-shadow: 0px 1px 3px 1px rgba(0, 0, 0, 0.15);\n",
              "      filter: drop-shadow(0px 1px 2px rgba(0, 0, 0, 0.3));\n",
              "      fill: #FFFFFF;\n",
              "    }\n",
              "  </style>\n",
              "\n",
              "      <script>\n",
              "        const buttonEl =\n",
              "          document.querySelector('#df-b8d4a67c-e8e4-4144-a23d-1faa26a9830f button.colab-df-convert');\n",
              "        buttonEl.style.display =\n",
              "          google.colab.kernel.accessAllowed ? 'block' : 'none';\n",
              "\n",
              "        async function convertToInteractive(key) {\n",
              "          const element = document.querySelector('#df-b8d4a67c-e8e4-4144-a23d-1faa26a9830f');\n",
              "          const dataTable =\n",
              "            await google.colab.kernel.invokeFunction('convertToInteractive',\n",
              "                                                     [key], {});\n",
              "          if (!dataTable) return;\n",
              "\n",
              "          const docLinkHtml = 'Like what you see? Visit the ' +\n",
              "            '<a target=\"_blank\" href=https://colab.research.google.com/notebooks/data_table.ipynb>data table notebook</a>'\n",
              "            + ' to learn more about interactive tables.';\n",
              "          element.innerHTML = '';\n",
              "          dataTable['output_type'] = 'display_data';\n",
              "          await google.colab.output.renderOutput(dataTable, element);\n",
              "          const docLink = document.createElement('div');\n",
              "          docLink.innerHTML = docLinkHtml;\n",
              "          element.appendChild(docLink);\n",
              "        }\n",
              "      </script>\n",
              "    </div>\n",
              "  </div>\n",
              "  "
            ]
          },
          "metadata": {},
          "execution_count": 119
        }
      ]
    },
    {
      "cell_type": "code",
      "source": [
        "# define feature and target\n",
        "X=df.drop(columns='HeartDisease').copy()\n",
        "y=df['HeartDisease'].copy()\n"
      ],
      "metadata": {
        "id": "oE04XpGXUiDR"
      },
      "execution_count": null,
      "outputs": []
    },
    {
      "cell_type": "code",
      "source": [
        "# validation split\n",
        "X_train, X_test, y_train, y_test = train_test_split(X, y, test_size=0.33, random_state=42)"
      ],
      "metadata": {
        "id": "iydZqUsxUiBE"
      },
      "execution_count": null,
      "outputs": []
    },
    {
      "cell_type": "code",
      "source": [
        "# instantiate column selector\n",
        "nums = make_column_selector(dtype_include='number')\n",
        "cats = make_column_selector(dtype_include='object')\n",
        "\n",
        "scaler = StandardScaler()\n",
        "ohe = OneHotEncoder()"
      ],
      "metadata": {
        "id": "Y768VkMGUh-8"
      },
      "execution_count": null,
      "outputs": []
    },
    {
      "cell_type": "code",
      "source": [
        "# instantiate column selector\n",
        "nums = make_column_selector(dtype_include='number')\n",
        "cats = make_column_selector(dtype_include='object')\n",
        "\n",
        "scaler = StandardScaler()\n",
        "ohe = OneHotEncoder()"
      ],
      "metadata": {
        "id": "WJdgaR1pUh8h"
      },
      "execution_count": null,
      "outputs": []
    },
    {
      "cell_type": "code",
      "source": [
        "num_tuple = (scaler,nums)\n",
        "cat_tuple = (ohe,cats)"
      ],
      "metadata": {
        "id": "Lqnaql-OUh6K"
      },
      "execution_count": null,
      "outputs": []
    },
    {
      "cell_type": "code",
      "source": [
        "preprocessor = make_column_transformer(num_tuple,cat_tuple,remainder='passthrough')"
      ],
      "metadata": {
        "id": "RTS3XPaoUh3i"
      },
      "execution_count": null,
      "outputs": []
    },
    {
      "cell_type": "markdown",
      "source": [
        "# Dummy Classifier"
      ],
      "metadata": {
        "id": "Od37EwPJVzrK"
      }
    },
    {
      "cell_type": "code",
      "source": [
        "dum = DummyClassifier()\n",
        "dum_pipe = make_pipeline(preprocessor,dum)\n",
        "dum_pipe.fit(X_train,y_train)"
      ],
      "metadata": {
        "colab": {
          "base_uri": "https://localhost:8080/"
        },
        "id": "warGXgrwUh0-",
        "outputId": "76a6e483-9985-4474-9b19-e29752d6003d"
      },
      "execution_count": null,
      "outputs": [
        {
          "output_type": "execute_result",
          "data": {
            "text/plain": [
              "Pipeline(steps=[('columntransformer',\n",
              "                 ColumnTransformer(remainder='passthrough',\n",
              "                                   transformers=[('standardscaler',\n",
              "                                                  StandardScaler(),\n",
              "                                                  <sklearn.compose._column_transformer.make_column_selector object at 0x7ff98498c210>),\n",
              "                                                 ('onehotencoder',\n",
              "                                                  OneHotEncoder(),\n",
              "                                                  <sklearn.compose._column_transformer.make_column_selector object at 0x7ff98498c590>)])),\n",
              "                ('dummyclassifier', DummyClassifier())])"
            ]
          },
          "metadata": {},
          "execution_count": 126
        }
      ]
    },
    {
      "cell_type": "markdown",
      "source": [
        "# Dummy classifier"
      ],
      "metadata": {
        "id": "E2mWnGtrKY39"
      }
    },
    {
      "cell_type": "code",
      "source": [
        "# default dummy \n",
        "dum_pred = dum_pipe.predict(X_test)\n",
        "print(classification_report(y_test,dum_pred))\n",
        "print(confusion_matrix(y_test,dum_pred))\n",
        "print(f'base logistic Regression accuracy score :{dum_pipe.score(X_test,y_test):.3f}')"
      ],
      "metadata": {
        "colab": {
          "base_uri": "https://localhost:8080/"
        },
        "id": "_Sb-iCU9Uhyd",
        "outputId": "d5f1aa95-0612-44d0-9912-6d4e21c4f300"
      },
      "execution_count": null,
      "outputs": [
        {
          "output_type": "stream",
          "name": "stdout",
          "text": [
            "              precision    recall  f1-score   support\n",
            "\n",
            "           0       0.00      0.00      0.00       123\n",
            "           1       0.59      1.00      0.75       180\n",
            "\n",
            "    accuracy                           0.59       303\n",
            "   macro avg       0.30      0.50      0.37       303\n",
            "weighted avg       0.35      0.59      0.44       303\n",
            "\n",
            "[[  0 123]\n",
            " [  0 180]]\n",
            "base logistic Regression accuracy score :0.594\n"
          ]
        },
        {
          "output_type": "stream",
          "name": "stderr",
          "text": [
            "/usr/local/lib/python3.7/dist-packages/sklearn/metrics/_classification.py:1318: UndefinedMetricWarning: Precision and F-score are ill-defined and being set to 0.0 in labels with no predicted samples. Use `zero_division` parameter to control this behavior.\n",
            "  _warn_prf(average, modifier, msg_start, len(result))\n",
            "/usr/local/lib/python3.7/dist-packages/sklearn/metrics/_classification.py:1318: UndefinedMetricWarning: Precision and F-score are ill-defined and being set to 0.0 in labels with no predicted samples. Use `zero_division` parameter to control this behavior.\n",
            "  _warn_prf(average, modifier, msg_start, len(result))\n",
            "/usr/local/lib/python3.7/dist-packages/sklearn/metrics/_classification.py:1318: UndefinedMetricWarning: Precision and F-score are ill-defined and being set to 0.0 in labels with no predicted samples. Use `zero_division` parameter to control this behavior.\n",
            "  _warn_prf(average, modifier, msg_start, len(result))\n"
          ]
        }
      ]
    },
    {
      "cell_type": "markdown",
      "source": [
        "# RandoForest Classifier"
      ],
      "metadata": {
        "id": "XAhQUBW1VuYq"
      }
    },
    {
      "cell_type": "code",
      "source": [
        "# instantiate random forest\n",
        "rf = RandomForestClassifier()\n",
        "rf_pipe = make_pipeline(preprocessor,rf)\n",
        "rf_pipe.fit(X_train,y_train)"
      ],
      "metadata": {
        "colab": {
          "base_uri": "https://localhost:8080/"
        },
        "id": "cIkrasToUhv1",
        "outputId": "fb82fef4-7596-4644-a19e-bbe790d9d8e4"
      },
      "execution_count": null,
      "outputs": [
        {
          "output_type": "execute_result",
          "data": {
            "text/plain": [
              "Pipeline(steps=[('columntransformer',\n",
              "                 ColumnTransformer(remainder='passthrough',\n",
              "                                   transformers=[('standardscaler',\n",
              "                                                  StandardScaler(),\n",
              "                                                  <sklearn.compose._column_transformer.make_column_selector object at 0x7ff98498c210>),\n",
              "                                                 ('onehotencoder',\n",
              "                                                  OneHotEncoder(),\n",
              "                                                  <sklearn.compose._column_transformer.make_column_selector object at 0x7ff98498c590>)])),\n",
              "                ('randomforestclassifier', RandomForestClassifier())])"
            ]
          },
          "metadata": {},
          "execution_count": 128
        }
      ]
    },
    {
      "cell_type": "code",
      "source": [
        "\n",
        "rf_pred = rf_pipe.predict(X_test)\n",
        "print(classification_report(y_test,rf_pred))\n",
        "print(confusion_matrix(y_test,rf_pred))\n",
        "print(f'base logistic Regression accuracy score :{rf_pipe.score(X_test,y_test):.3f}')\n",
        "plot_confusion_matrix(rf_pipe,X_test,y_test)"
      ],
      "metadata": {
        "colab": {
          "base_uri": "https://localhost:8080/",
          "height": 511
        },
        "id": "-PakyzSSVt9r",
        "outputId": "f8326ea5-6533-498d-d015-55f065fad432"
      },
      "execution_count": null,
      "outputs": [
        {
          "output_type": "stream",
          "name": "stdout",
          "text": [
            "              precision    recall  f1-score   support\n",
            "\n",
            "           0       0.81      0.88      0.84       123\n",
            "           1       0.91      0.86      0.89       180\n",
            "\n",
            "    accuracy                           0.87       303\n",
            "   macro avg       0.86      0.87      0.86       303\n",
            "weighted avg       0.87      0.87      0.87       303\n",
            "\n",
            "[[108  15]\n",
            " [ 25 155]]\n",
            "base logistic Regression accuracy score :0.868\n"
          ]
        },
        {
          "output_type": "execute_result",
          "data": {
            "text/plain": [
              "<sklearn.metrics._plot.confusion_matrix.ConfusionMatrixDisplay at 0x7ff9891711d0>"
            ]
          },
          "metadata": {},
          "execution_count": 129
        },
        {
          "output_type": "display_data",
          "data": {
            "text/plain": [
              "<Figure size 432x288 with 2 Axes>"
            ],
            "image/png": "[encoded data removed]"
          },
          "metadata": {
            "needs_background": "light"
          }
        }
      ]
    },
    {
      "cell_type": "code",
      "source": [
        "# random forest parameters\n",
        "rf_pipe.get_params()"
      ],
      "metadata": {
        "colab": {
          "base_uri": "https://localhost:8080/"
        },
        "id": "rrr7VFFdV7AC",
        "outputId": "fac66779-2650-414c-b975-69d2e1a9d7ba"
      },
      "execution_count": null,
      "outputs": [
        {
          "output_type": "execute_result",
          "data": {
            "text/plain": [
              "{'memory': None,\n",
              " 'steps': [('columntransformer', ColumnTransformer(remainder='passthrough',\n",
              "                     transformers=[('standardscaler', StandardScaler(),\n",
              "                                    <sklearn.compose._column_transformer.make_column_selector object at 0x7ff98498c210>),\n",
              "                                   ('onehotencoder', OneHotEncoder(),\n",
              "                                    <sklearn.compose._column_transformer.make_column_selector object at 0x7ff98498c590>)])),\n",
              "  ('randomforestclassifier', RandomForestClassifier())],\n",
              " 'verbose': False,\n",
              " 'columntransformer': ColumnTransformer(remainder='passthrough',\n",
              "                   transformers=[('standardscaler', StandardScaler(),\n",
              "                                  <sklearn.compose._column_transformer.make_column_selector object at 0x7ff98498c210>),\n",
              "                                 ('onehotencoder', OneHotEncoder(),\n",
              "                                  <sklearn.compose._column_transformer.make_column_selector object at 0x7ff98498c590>)]),\n",
              " 'randomforestclassifier': RandomForestClassifier(),\n",
              " 'columntransformer__n_jobs': None,\n",
              " 'columntransformer__remainder': 'passthrough',\n",
              " 'columntransformer__sparse_threshold': 0.3,\n",
              " 'columntransformer__transformer_weights': None,\n",
              " 'columntransformer__transformers': [('standardscaler',\n",
              "   StandardScaler(),\n",
              "   <sklearn.compose._column_transformer.make_column_selector at 0x7ff98498c210>),\n",
              "  ('onehotencoder',\n",
              "   OneHotEncoder(),\n",
              "   <sklearn.compose._column_transformer.make_column_selector at 0x7ff98498c590>)],\n",
              " 'columntransformer__verbose': False,\n",
              " 'columntransformer__verbose_feature_names_out': True,\n",
              " 'columntransformer__standardscaler': StandardScaler(),\n",
              " 'columntransformer__onehotencoder': OneHotEncoder(),\n",
              " 'columntransformer__standardscaler__copy': True,\n",
              " 'columntransformer__standardscaler__with_mean': True,\n",
              " 'columntransformer__standardscaler__with_std': True,\n",
              " 'columntransformer__onehotencoder__categories': 'auto',\n",
              " 'columntransformer__onehotencoder__drop': None,\n",
              " 'columntransformer__onehotencoder__dtype': numpy.float64,\n",
              " 'columntransformer__onehotencoder__handle_unknown': 'error',\n",
              " 'columntransformer__onehotencoder__sparse': True,\n",
              " 'randomforestclassifier__bootstrap': True,\n",
              " 'randomforestclassifier__ccp_alpha': 0.0,\n",
              " 'randomforestclassifier__class_weight': None,\n",
              " 'randomforestclassifier__criterion': 'gini',\n",
              " 'randomforestclassifier__max_depth': None,\n",
              " 'randomforestclassifier__max_features': 'auto',\n",
              " 'randomforestclassifier__max_leaf_nodes': None,\n",
              " 'randomforestclassifier__max_samples': None,\n",
              " 'randomforestclassifier__min_impurity_decrease': 0.0,\n",
              " 'randomforestclassifier__min_samples_leaf': 1,\n",
              " 'randomforestclassifier__min_samples_split': 2,\n",
              " 'randomforestclassifier__min_weight_fraction_leaf': 0.0,\n",
              " 'randomforestclassifier__n_estimators': 100,\n",
              " 'randomforestclassifier__n_jobs': None,\n",
              " 'randomforestclassifier__oob_score': False,\n",
              " 'randomforestclassifier__random_state': None,\n",
              " 'randomforestclassifier__verbose': 0,\n",
              " 'randomforestclassifier__warm_start': False}"
            ]
          },
          "metadata": {},
          "execution_count": 130
        }
      ]
    },
    {
      "cell_type": "markdown",
      "source": [
        "# Tunning Random Forest"
      ],
      "metadata": {
        "id": "v-DyGURbKdyR"
      }
    },
    {
      "cell_type": "code",
      "source": [
        "# parameters\n",
        "rf_params = {'randomforestclassifier__n_estimators': [50,100,150,200,250]}\n"
      ],
      "metadata": {
        "id": "dbsYVFjXV8ig"
      },
      "execution_count": null,
      "outputs": []
    },
    {
      "cell_type": "code",
      "source": [
        "# instantiate GridSearchCV\n",
        "rf_gs = GridSearchCV(rf_pipe,rf_params)\n",
        "rf_gs.fit(X_train,y_train)\n"
      ],
      "metadata": {
        "colab": {
          "base_uri": "https://localhost:8080/"
        },
        "id": "tHotqqamV9c1",
        "outputId": "347f4a20-4dcd-43ed-d1ef-84694dcbfdf2"
      },
      "execution_count": null,
      "outputs": [
        {
          "output_type": "execute_result",
          "data": {
            "text/plain": [
              "GridSearchCV(estimator=Pipeline(steps=[('columntransformer',\n",
              "                                        ColumnTransformer(remainder='passthrough',\n",
              "                                                          transformers=[('standardscaler',\n",
              "                                                                         StandardScaler(),\n",
              "                                                                         <sklearn.compose._column_transformer.make_column_selector object at 0x7ff98498c210>),\n",
              "                                                                        ('onehotencoder',\n",
              "                                                                         OneHotEncoder(),\n",
              "                                                                         <sklearn.compose._column_transformer.make_column_selector object at 0x7ff98498c590>)])),\n",
              "                                       ('randomforestclassifier',\n",
              "                                        RandomForestClassifier())]),\n",
              "             param_grid={'randomforestclassifier__n_estimators': [50, 100, 150,\n",
              "                                                                  200, 250]})"
            ]
          },
          "metadata": {},
          "execution_count": 132
        }
      ]
    },
    {
      "cell_type": "code",
      "source": [
        "rf_gs.best_params_"
      ],
      "metadata": {
        "colab": {
          "base_uri": "https://localhost:8080/"
        },
        "id": "8z5pli2fV-6l",
        "outputId": "a2ba680b-2381-4ade-d630-599cd4fbc056"
      },
      "execution_count": null,
      "outputs": [
        {
          "output_type": "execute_result",
          "data": {
            "text/plain": [
              "{'randomforestclassifier__n_estimators': 50}"
            ]
          },
          "metadata": {},
          "execution_count": 133
        }
      ]
    },
    {
      "cell_type": "code",
      "source": [
        "# best tuned random forest classifier \n",
        "best_rf_pipe = make_pipeline(preprocessor,RandomForestClassifier(n_estimators=250))\n",
        "best_rf_pipe.fit(X_train,y_train)\n",
        "best_rf_pred = best_rf_pipe.predict(X_test)\n",
        "print(classification_report(y_test,best_rf_pred))\n",
        "print(confusion_matrix(y_test,best_rf_pred))\n",
        "print('\\n')\n",
        "plot_confusion_matrix(best_rf_pipe,X_test,y_test,cmap='Blues')"
      ],
      "metadata": {
        "colab": {
          "base_uri": "https://localhost:8080/",
          "height": 529
        },
        "id": "YlLXp-RcWAAr",
        "outputId": "facab965-3375-47a2-f0e5-c7e2fd5e3ff2"
      },
      "execution_count": null,
      "outputs": [
        {
          "output_type": "stream",
          "name": "stdout",
          "text": [
            "              precision    recall  f1-score   support\n",
            "\n",
            "           0       0.81      0.89      0.85       123\n",
            "           1       0.92      0.86      0.89       180\n",
            "\n",
            "    accuracy                           0.87       303\n",
            "   macro avg       0.87      0.88      0.87       303\n",
            "weighted avg       0.88      0.87      0.88       303\n",
            "\n",
            "[[110  13]\n",
            " [ 25 155]]\n",
            "\n",
            "\n"
          ]
        },
        {
          "output_type": "execute_result",
          "data": {
            "text/plain": [
              "<sklearn.metrics._plot.confusion_matrix.ConfusionMatrixDisplay at 0x7ff985cca550>"
            ]
          },
          "metadata": {},
          "execution_count": 134
        },
        {
          "output_type": "display_data",
          "data": {
            "text/plain": [
              "<Figure size 432x288 with 2 Axes>"
            ],
            "image/png": "[encoded data removed]"
          },
          "metadata": {
            "needs_background": "light"
          }
        }
      ]
    },
    {
      "cell_type": "markdown",
      "source": [
        "# Logistic Regression model "
      ],
      "metadata": {
        "id": "cS4rGmP6KOWW"
      }
    },
    {
      "cell_type": "code",
      "source": [
        "# logistic classifier\n",
        "lg = LogisticRegression()\n",
        "lg_pipe = make_pipeline(preprocessor,lg)\n",
        "lg_pipe.fit(X_train,y_train)\n",
        "lg_pred = lg_pipe.predict(X_test)\n",
        "print(classification_report(y_test,lg_pred))\n",
        "print(confusion_matrix(y_test,lg_pred))\n",
        "plot_confusion_matrix(lg_pipe,X_test,y_test)"
      ],
      "metadata": {
        "colab": {
          "base_uri": "https://localhost:8080/",
          "height": 493
        },
        "id": "iHUlVhfeWB_7",
        "outputId": "77b6402b-5b4e-45c0-8da3-757f28b6f044"
      },
      "execution_count": null,
      "outputs": [
        {
          "output_type": "stream",
          "name": "stdout",
          "text": [
            "              precision    recall  f1-score   support\n",
            "\n",
            "           0       0.82      0.91      0.86       123\n",
            "           1       0.93      0.86      0.90       180\n",
            "\n",
            "    accuracy                           0.88       303\n",
            "   macro avg       0.88      0.89      0.88       303\n",
            "weighted avg       0.89      0.88      0.88       303\n",
            "\n",
            "[[112  11]\n",
            " [ 25 155]]\n"
          ]
        },
        {
          "output_type": "execute_result",
          "data": {
            "text/plain": [
              "<sklearn.metrics._plot.confusion_matrix.ConfusionMatrixDisplay at 0x7ff9860ab090>"
            ]
          },
          "metadata": {},
          "execution_count": 135
        },
        {
          "output_type": "display_data",
          "data": {
            "text/plain": [
              "<Figure size 432x288 with 2 Axes>"
            ],
            "image/png": "[encoded data removed]"
          },
          "metadata": {
            "needs_background": "light"
          }
        }
      ]
    },
    {
      "cell_type": "markdown",
      "source": [
        "# Tunning Logistic Regression Model"
      ],
      "metadata": {
        "id": "8KicPlklKpLr"
      }
    },
    {
      "cell_type": "code",
      "source": [
        "lg_pipe.get_params()"
      ],
      "metadata": {
        "colab": {
          "base_uri": "https://localhost:8080/"
        },
        "id": "5AMC3jCICMFV",
        "outputId": "d44cf2ca-80df-4d74-932a-88054d209f63"
      },
      "execution_count": null,
      "outputs": [
        {
          "output_type": "execute_result",
          "data": {
            "text/plain": [
              "{'memory': None,\n",
              " 'steps': [('columntransformer', ColumnTransformer(remainder='passthrough',\n",
              "                     transformers=[('standardscaler', StandardScaler(),\n",
              "                                    <sklearn.compose._column_transformer.make_column_selector object at 0x7ff98498c210>),\n",
              "                                   ('onehotencoder', OneHotEncoder(),\n",
              "                                    <sklearn.compose._column_transformer.make_column_selector object at 0x7ff98498c590>)])),\n",
              "  ('logisticregression', LogisticRegression())],\n",
              " 'verbose': False,\n",
              " 'columntransformer': ColumnTransformer(remainder='passthrough',\n",
              "                   transformers=[('standardscaler', StandardScaler(),\n",
              "                                  <sklearn.compose._column_transformer.make_column_selector object at 0x7ff98498c210>),\n",
              "                                 ('onehotencoder', OneHotEncoder(),\n",
              "                                  <sklearn.compose._column_transformer.make_column_selector object at 0x7ff98498c590>)]),\n",
              " 'logisticregression': LogisticRegression(),\n",
              " 'columntransformer__n_jobs': None,\n",
              " 'columntransformer__remainder': 'passthrough',\n",
              " 'columntransformer__sparse_threshold': 0.3,\n",
              " 'columntransformer__transformer_weights': None,\n",
              " 'columntransformer__transformers': [('standardscaler',\n",
              "   StandardScaler(),\n",
              "   <sklearn.compose._column_transformer.make_column_selector at 0x7ff98498c210>),\n",
              "  ('onehotencoder',\n",
              "   OneHotEncoder(),\n",
              "   <sklearn.compose._column_transformer.make_column_selector at 0x7ff98498c590>)],\n",
              " 'columntransformer__verbose': False,\n",
              " 'columntransformer__verbose_feature_names_out': True,\n",
              " 'columntransformer__standardscaler': StandardScaler(),\n",
              " 'columntransformer__onehotencoder': OneHotEncoder(),\n",
              " 'columntransformer__standardscaler__copy': True,\n",
              " 'columntransformer__standardscaler__with_mean': True,\n",
              " 'columntransformer__standardscaler__with_std': True,\n",
              " 'columntransformer__onehotencoder__categories': 'auto',\n",
              " 'columntransformer__onehotencoder__drop': None,\n",
              " 'columntransformer__onehotencoder__dtype': numpy.float64,\n",
              " 'columntransformer__onehotencoder__handle_unknown': 'error',\n",
              " 'columntransformer__onehotencoder__sparse': True,\n",
              " 'logisticregression__C': 1.0,\n",
              " 'logisticregression__class_weight': None,\n",
              " 'logisticregression__dual': False,\n",
              " 'logisticregression__fit_intercept': True,\n",
              " 'logisticregression__intercept_scaling': 1,\n",
              " 'logisticregression__l1_ratio': None,\n",
              " 'logisticregression__max_iter': 100,\n",
              " 'logisticregression__multi_class': 'auto',\n",
              " 'logisticregression__n_jobs': None,\n",
              " 'logisticregression__penalty': 'l2',\n",
              " 'logisticregression__random_state': None,\n",
              " 'logisticregression__solver': 'lbfgs',\n",
              " 'logisticregression__tol': 0.0001,\n",
              " 'logisticregression__verbose': 0,\n",
              " 'logisticregression__warm_start': False}"
            ]
          },
          "metadata": {},
          "execution_count": 136
        }
      ]
    },
    {
      "cell_type": "code",
      "source": [
        "lg_params = {'logisticregression__C':[0.0001, 0.001, 0.01, 0.1, 1, 10, 100, 1000],\n",
        "                  'logisticregression__penalty':['l2','l1'],\n",
        "                  'logisticregression__solver': ['lbfgs','liblinear']}"
      ],
      "metadata": {
        "id": "eY_h65nCCRJg"
      },
      "execution_count": null,
      "outputs": []
    },
    {
      "cell_type": "code",
      "source": [
        "# instantiate GridSearchCV\n",
        "lg_gs = GridSearchCV(lg_pipe,lg_params)\n",
        "lg_gs.fit(X_train,y_train)\n"
      ],
      "metadata": {
        "colab": {
          "base_uri": "https://localhost:8080/"
        },
        "id": "gbpvEekECuN6",
        "outputId": "a47f389d-76e1-485a-d6ac-ff8a9cb899f9"
      },
      "execution_count": null,
      "outputs": [
        {
          "output_type": "stream",
          "name": "stderr",
          "text": [
            "/usr/local/lib/python3.7/dist-packages/sklearn/model_selection/_validation.py:372: FitFailedWarning: \n",
            "40 fits failed out of a total of 160.\n",
            "The score on these train-test partitions for these parameters will be set to nan.\n",
            "If these failures are not expected, you can try to debug them by setting error_score='raise'.\n",
            "\n",
            "Below are more details about the failures:\n",
            "--------------------------------------------------------------------------------\n",
            "40 fits failed with the following error:\n",
            "Traceback (most recent call last):\n",
            "  File \"/usr/local/lib/python3.7/dist-packages/sklearn/model_selection/_validation.py\", line 680, in _fit_and_score\n",
            "    estimator.fit(X_train, y_train, **fit_params)\n",
            "  File \"/usr/local/lib/python3.7/dist-packages/sklearn/pipeline.py\", line 394, in fit\n",
            "    self._final_estimator.fit(Xt, y, **fit_params_last_step)\n",
            "  File \"/usr/local/lib/python3.7/dist-packages/sklearn/linear_model/_logistic.py\", line 1461, in fit\n",
            "    solver = _check_solver(self.solver, self.penalty, self.dual)\n",
            "  File \"/usr/local/lib/python3.7/dist-packages/sklearn/linear_model/_logistic.py\", line 449, in _check_solver\n",
            "    % (solver, penalty)\n",
            "ValueError: Solver lbfgs supports only 'l2' or 'none' penalties, got l1 penalty.\n",
            "\n",
            "  warnings.warn(some_fits_failed_message, FitFailedWarning)\n",
            "/usr/local/lib/python3.7/dist-packages/sklearn/model_selection/_search.py:972: UserWarning: One or more of the test scores are non-finite: [0.53333333 0.82926829        nan 0.46666667 0.80813008 0.83252033\n",
            "        nan 0.46666667 0.83902439 0.83902439        nan 0.72520325\n",
            " 0.85853659 0.86178862        nan 0.84390244 0.85853659 0.85853659\n",
            "        nan 0.86178862 0.85853659 0.85853659        nan 0.85853659\n",
            " 0.85853659 0.85853659        nan 0.85853659 0.85853659 0.85853659\n",
            "        nan 0.85853659]\n",
            "  category=UserWarning,\n"
          ]
        },
        {
          "output_type": "execute_result",
          "data": {
            "text/plain": [
              "GridSearchCV(estimator=Pipeline(steps=[('columntransformer',\n",
              "                                        ColumnTransformer(remainder='passthrough',\n",
              "                                                          transformers=[('standardscaler',\n",
              "                                                                         StandardScaler(),\n",
              "                                                                         <sklearn.compose._column_transformer.make_column_selector object at 0x7ff9855a4610>),\n",
              "                                                                        ('onehotencoder',\n",
              "                                                                         OneHotEncoder(),\n",
              "                                                                         <sklearn.compose._column_transformer.make_column_selector object at 0x7ff9855a45d0>)])),\n",
              "                                       ('logisticregression',\n",
              "                                        LogisticRegression())]),\n",
              "             param_grid={'logisticregression__C': [0.0001, 0.001, 0.01, 0.1, 1,\n",
              "                                                   10, 100, 1000],\n",
              "                         'logisticregression__penalty': ['l2', 'l1'],\n",
              "                         'logisticregression__solver': ['lbfgs', 'liblinear']})"
            ]
          },
          "metadata": {},
          "execution_count": 66
        }
      ]
    },
    {
      "cell_type": "code",
      "source": [
        "lg_gs.best_params_"
      ],
      "metadata": {
        "colab": {
          "base_uri": "https://localhost:8080/"
        },
        "id": "wnehvJQADNFn",
        "outputId": "e89f4055-f8b6-4546-f64a-ec08ffaa77bc"
      },
      "execution_count": null,
      "outputs": [
        {
          "output_type": "execute_result",
          "data": {
            "text/plain": [
              "{'logisticregression__C': 0.1,\n",
              " 'logisticregression__penalty': 'l2',\n",
              " 'logisticregression__solver': 'liblinear'}"
            ]
          },
          "metadata": {},
          "execution_count": 67
        }
      ]
    },
    {
      "cell_type": "markdown",
      "source": [
        "# Best value for logestic Regression Model"
      ],
      "metadata": {
        "id": "9no-WWaQK1go"
      }
    },
    {
      "cell_type": "code",
      "source": [
        "# best logistic regression\n",
        "best_log_pipe = make_pipeline(preprocessor,LogisticRegression(C=0.1, max_iter=1000, solver='liblinear', penalty='l2'))\n",
        "# fit data to x train and y train\n",
        "best_log_pipe.fit(X_train, y_train)\n",
        "# predict value to X_test\n",
        "best_log_pred = lg_pipe.predict(X_test)\n",
        "# print confusion matrix and classification report for best logistic regression model\n",
        "print(classification_report(y_test,best_log_pred))\n",
        "print(confusion_matrix(y_test,best_log_pred))\n",
        "plot_confusion_matrix(best_log_pipe,X_test,y_test,cmap='Blues');"
      ],
      "metadata": {
        "colab": {
          "base_uri": "https://localhost:8080/",
          "height": 475
        },
        "id": "HZRfyfPNk_LI",
        "outputId": "a2d5b617-189c-4bf3-9634-e63f62b362b1"
      },
      "execution_count": null,
      "outputs": [
        {
          "output_type": "stream",
          "name": "stdout",
          "text": [
            "              precision    recall  f1-score   support\n",
            "\n",
            "           0       0.82      0.91      0.86       123\n",
            "           1       0.93      0.86      0.90       180\n",
            "\n",
            "    accuracy                           0.88       303\n",
            "   macro avg       0.88      0.89      0.88       303\n",
            "weighted avg       0.89      0.88      0.88       303\n",
            "\n",
            "[[112  11]\n",
            " [ 25 155]]\n"
          ]
        },
        {
          "output_type": "display_data",
          "data": {
            "text/plain": [
              "<Figure size 432x288 with 2 Axes>"
            ],
            "image/png": "[encoded data removed]"
          },
          "metadata": {
            "needs_background": "light"
          }
        }
      ]
    },
    {
      "cell_type": "markdown",
      "source": [
        "# Decision Tree Model"
      ],
      "metadata": {
        "id": "53--KA-0K7qN"
      }
    },
    {
      "cell_type": "code",
      "source": [
        "tree = DecisionTreeClassifier(random_state=8)\n",
        "tr_pipe = make_pipeline(preprocessor,tree)\n",
        "tr_pipe.fit(X_train,y_train)\n",
        "tr_pred = tr_pipe.predict(X_test)\n",
        "print(classification_report(y_test,tr_pred))\n",
        "print(confusion_matrix(y_test,tr_pred))\n",
        "plot_confusion_matrix(tr_pipe,X_test,y_test)"
      ],
      "metadata": {
        "colab": {
          "base_uri": "https://localhost:8080/",
          "height": 493
        },
        "id": "9fB9yPtifdYh",
        "outputId": "79bfffb5-cf5e-4421-e0fb-3407e48a37b6"
      },
      "execution_count": null,
      "outputs": [
        {
          "output_type": "stream",
          "name": "stdout",
          "text": [
            "              precision    recall  f1-score   support\n",
            "\n",
            "           0       0.64      0.80      0.71       123\n",
            "           1       0.83      0.69      0.76       180\n",
            "\n",
            "    accuracy                           0.74       303\n",
            "   macro avg       0.74      0.75      0.73       303\n",
            "weighted avg       0.76      0.74      0.74       303\n",
            "\n",
            "[[ 98  25]\n",
            " [ 55 125]]\n"
          ]
        },
        {
          "output_type": "execute_result",
          "data": {
            "text/plain": [
              "<sklearn.metrics._plot.confusion_matrix.ConfusionMatrixDisplay at 0x7ff985287e10>"
            ]
          },
          "metadata": {},
          "execution_count": 69
        },
        {
          "output_type": "display_data",
          "data": {
            "text/plain": [
              "<Figure size 432x288 with 2 Axes>"
            ],
            "image/png": "[encoded data removed]"
          },
          "metadata": {
            "needs_background": "light"
          }
        }
      ]
    },
    {
      "cell_type": "markdown",
      "source": [
        "# KNN model"
      ],
      "metadata": {
        "id": "PcxQijN-LEFA"
      }
    },
    {
      "cell_type": "code",
      "source": [
        "# default knn k=5\n",
        "knn = KNeighborsClassifier()\n",
        "knn.get_params()"
      ],
      "metadata": {
        "colab": {
          "base_uri": "https://localhost:8080/"
        },
        "id": "DNO1nN71fdV7",
        "outputId": "76c39d9d-616a-489d-ed62-5f5652da7264"
      },
      "execution_count": null,
      "outputs": [
        {
          "output_type": "execute_result",
          "data": {
            "text/plain": [
              "{'algorithm': 'auto',\n",
              " 'leaf_size': 30,\n",
              " 'metric': 'minkowski',\n",
              " 'metric_params': None,\n",
              " 'n_jobs': None,\n",
              " 'n_neighbors': 5,\n",
              " 'p': 2,\n",
              " 'weights': 'uniform'}"
            ]
          },
          "metadata": {},
          "execution_count": 70
        }
      ]
    },
    {
      "cell_type": "code",
      "source": [
        "# fit defalut knn to X_train and y_train\n",
        "knn_pipe = make_pipeline(preprocessor,knn)\n",
        "knn_pipe.fit(X_train,y_train)\n",
        "# predict value\n",
        "knn_pred = knn_pipe.predict(X_test)\n",
        "# print confusion matrix and classification report\n",
        "print(confusion_matrix(y_test,knn_pred))\n",
        "print(classification_report(y_test,knn_pred))"
      ],
      "metadata": {
        "colab": {
          "base_uri": "https://localhost:8080/"
        },
        "id": "6iFX9-PXfdTq",
        "outputId": "125bdeb9-0cb4-4308-c328-43f67d1f143b"
      },
      "execution_count": null,
      "outputs": [
        {
          "output_type": "stream",
          "name": "stdout",
          "text": [
            "[[108  15]\n",
            " [ 22 158]]\n",
            "              precision    recall  f1-score   support\n",
            "\n",
            "           0       0.83      0.88      0.85       123\n",
            "           1       0.91      0.88      0.90       180\n",
            "\n",
            "    accuracy                           0.88       303\n",
            "   macro avg       0.87      0.88      0.87       303\n",
            "weighted avg       0.88      0.88      0.88       303\n",
            "\n"
          ]
        }
      ]
    },
    {
      "cell_type": "markdown",
      "source": [
        "# Tunning KNN"
      ],
      "metadata": {
        "id": "TqZxoI1rLMFH"
      }
    },
    {
      "cell_type": "code",
      "source": [
        "from sklearn.metrics import accuracy_score\n",
        "krn = list(range(1,50))\n",
        "accuracy = []\n",
        "bestacc = 0\n",
        "bestk = 0\n",
        "for i in krn:\n",
        "  # loop accuracy \n",
        "  tune_pipe = make_pipeline(preprocessor,KNeighborsClassifier(n_neighbors=i))\n",
        "  tune_pipe.fit(X_train,y_train)\n",
        "  tune_predictions = tune_pipe.predict(X_test)\n",
        "  run_acc = accuracy_score(y_test,tune_predictions)\n",
        "\n",
        "  # iterate best result and assign k to best k\n",
        "  if run_acc > bestacc:\n",
        "    bestacc = run_acc\n",
        "    bestk = i\n",
        "  accuracy.append(run_acc)\n",
        "  #print(f'best acc: {bestacc}')\n",
        "  #print(f'run_ac: {run_acc}')\n",
        "plt.plot(krn, accuracy, label='Test K Scores')\n",
        "plt.show()\n",
        "print(f'Best k value: {bestk} \\n test accuracy: {round(bestacc,4)} ')"
      ],
      "metadata": {
        "colab": {
          "base_uri": "https://localhost:8080/",
          "height": 301
        },
        "id": "YdkwLwX5fdRU",
        "outputId": "db4c7004-f985-4fbe-f07d-43167b9c9f82"
      },
      "execution_count": null,
      "outputs": [
        {
          "output_type": "display_data",
          "data": {
            "text/plain": [
              "<Figure size 432x288 with 1 Axes>"
            ],
            "image/png": "[encoded data removed]"
          },
          "metadata": {
            "needs_background": "light"
          }
        },
        {
          "output_type": "stream",
          "name": "stdout",
          "text": [
            "Best k value: 11 \n",
            " test accuracy: 0.8812 \n"
          ]
        }
      ]
    },
    {
      "cell_type": "code",
      "source": [
        "# create best knn pipeline\n",
        "best_knn_pipe = make_pipeline(preprocessor,KNeighborsClassifier(n_neighbors=bestk))\n",
        "# fit pipeline to X_train and y_train\n",
        "best_knn_pipe.fit(X_train,y_train)\n",
        "\n",
        "best_pred = best_knn_pipe.predict(X_test)\n",
        "# show confusion matrix best result prediction\n",
        "print(confusion_matrix(y_test,best_pred))\n",
        "# show report of best result knn\n",
        "print(classification_report(y_test,best_pred))\n",
        "# show matrix display of best knn\n",
        "plot_confusion_matrix(best_knn_pipe,X_test,y_test,cmap='Blues');"
      ],
      "metadata": {
        "colab": {
          "base_uri": "https://localhost:8080/",
          "height": 475
        },
        "id": "aG7BnMC2fdO_",
        "outputId": "52f5be67-7d0d-4982-e3e7-df3d2f140092"
      },
      "execution_count": null,
      "outputs": [
        {
          "output_type": "stream",
          "name": "stdout",
          "text": [
            "[[109  14]\n",
            " [ 22 158]]\n",
            "              precision    recall  f1-score   support\n",
            "\n",
            "           0       0.83      0.89      0.86       123\n",
            "           1       0.92      0.88      0.90       180\n",
            "\n",
            "    accuracy                           0.88       303\n",
            "   macro avg       0.88      0.88      0.88       303\n",
            "weighted avg       0.88      0.88      0.88       303\n",
            "\n"
          ]
        },
        {
          "output_type": "display_data",
          "data": {
            "text/plain": [
              "<Figure size 432x288 with 2 Axes>"
            ],
            "image/png": "[encoded data removed]"
          },
          "metadata": {
            "needs_background": "light"
          }
        }
      ]
    },
    {
      "cell_type": "code",
      "source": [
        "pca = PCA(n_components=0.99)\n",
        "# create best knn pipeline\n",
        "knn_pca = make_pipeline(preprocessor,pca,KNeighborsClassifier(n_neighbors=bestk))\n",
        "# fit pipeline to X_train and y_train\n",
        "knn_pca.fit(X_train,y_train)\n",
        "\n",
        "pca_pred = knn_pca.predict(X_test)\n",
        "# show confusion matrix best result prediction\n",
        "print(confusion_matrix(y_test,pca_pred))\n",
        "# show report of best result knn\n",
        "print(classification_report(y_test,pca_pred))\n",
        "# show matrix display of best knn\n",
        "plot_confusion_matrix(knn_pca,X_test,y_test,cmap='Blues');"
      ],
      "metadata": {
        "colab": {
          "base_uri": "https://localhost:8080/",
          "height": 475
        },
        "id": "w6q7fc67fdMq",
        "outputId": "a8f1db0e-351a-4565-bfdb-de59b558a503"
      },
      "execution_count": null,
      "outputs": [
        {
          "output_type": "stream",
          "name": "stdout",
          "text": [
            "[[109  14]\n",
            " [ 23 157]]\n",
            "              precision    recall  f1-score   support\n",
            "\n",
            "           0       0.83      0.89      0.85       123\n",
            "           1       0.92      0.87      0.89       180\n",
            "\n",
            "    accuracy                           0.88       303\n",
            "   macro avg       0.87      0.88      0.87       303\n",
            "weighted avg       0.88      0.88      0.88       303\n",
            "\n"
          ]
        },
        {
          "output_type": "display_data",
          "data": {
            "text/plain": [
              "<Figure size 432x288 with 2 Axes>"
            ],
            "image/png": "[encoded data removed]"
          },
          "metadata": {
            "needs_background": "light"
          }
        }
      ]
    },
    {
      "cell_type": "markdown",
      "source": [
        "# knn and Random Forest both give the result with acuracy 88 percentage, and both no big differences. However our false Negtive value (true heart disease)is more problemetic;knn performed well with false negtive value. "
      ],
      "metadata": {
        "id": "z8HWN8CUIXZS"
      }
    }
  ]
}